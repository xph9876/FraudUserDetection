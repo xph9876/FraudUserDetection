{
 "cells": [
  {
   "cell_type": "markdown",
   "id": "4caf0959",
   "metadata": {},
   "source": [
    "# Fraudulent User Detection Using Amazon Dataset\n",
    "### Penghao Xu, Yuan Chen, Jiawei Wu, Haojing Lu\n",
    "\n",
    "## Part 1. Dataset preprocessing\n",
    "\n",
    "This script is used to clean the Amazon review dataset (http://jmcauley.ucsd.edu/data/amazon/links.html) and generate data for baseline and the new proposed model.\n"
   ]
  },
  {
   "cell_type": "code",
   "execution_count": 1,
   "id": "43f17224",
   "metadata": {},
   "outputs": [],
   "source": [
    "import json\n",
    "import pandas as pd\n",
    "import gzip\n",
    "import os\n",
    "from collections import Counter"
   ]
  },
  {
   "cell_type": "markdown",
   "id": "28bab77f",
   "metadata": {},
   "source": [
    "Download data if needed"
   ]
  },
  {
   "cell_type": "code",
   "execution_count": 2,
   "id": "d2688f25",
   "metadata": {},
   "outputs": [],
   "source": [
    "# Uncomment to download data\n",
    "# !wget http://snap.stanford.edu/data/amazon/productGraph/kcore_5.json.gz"
   ]
  },
  {
   "cell_type": "code",
   "execution_count": 3,
   "id": "51cd5a29",
   "metadata": {},
   "outputs": [],
   "source": [
    "## 5-core data is used in this study\n",
    "# DO NOT extract the dataset. gzip format is required\n",
    "filename = 'kcore_5.json.gz'\n",
    "assert filename.endswith('gz'), 'Gzipped dataset is required!'\n",
    "\n",
    "# set output folder\n",
    "folder = 'dataset'\n",
    "if not os.path.isdir(folder):\n",
    "    os.mkdir(folder)"
   ]
  },
  {
   "cell_type": "markdown",
   "id": "7230faca",
   "metadata": {},
   "source": [
    "## 1. Generate rating-only dataset\n",
    "The rating-only dataset has 4 columns: User, item, and rating. This dataset is used for baseline model REV2"
   ]
  },
  {
   "cell_type": "code",
   "execution_count": 4,
   "id": "32928253",
   "metadata": {},
   "outputs": [
    {
     "name": "stdout",
     "output_type": "stream",
     "text": [
      "5000000 reviews processed!\n",
      "10000000 reviews processed!\n",
      "15000000 reviews processed!\n",
      "20000000 reviews processed!\n",
      "25000000 reviews processed!\n",
      "30000000 reviews processed!\n",
      "35000000 reviews processed!\n",
      "40000000 reviews processed!\n"
     ]
    },
    {
     "data": {
      "text/html": [
       "<div>\n",
       "<style scoped>\n",
       "    .dataframe tbody tr th:only-of-type {\n",
       "        vertical-align: middle;\n",
       "    }\n",
       "\n",
       "    .dataframe tbody tr th {\n",
       "        vertical-align: top;\n",
       "    }\n",
       "\n",
       "    .dataframe thead th {\n",
       "        text-align: right;\n",
       "    }\n",
       "</style>\n",
       "<table border=\"1\" class=\"dataframe\">\n",
       "  <thead>\n",
       "    <tr style=\"text-align: right;\">\n",
       "      <th></th>\n",
       "      <th>reviewerID</th>\n",
       "      <th>asin</th>\n",
       "      <th>rating</th>\n",
       "      <th>helpfulness</th>\n",
       "    </tr>\n",
       "  </thead>\n",
       "  <tbody>\n",
       "    <tr>\n",
       "      <th>2</th>\n",
       "      <td>A2SUAM1J3GNN3B</td>\n",
       "      <td>0000013714</td>\n",
       "      <td>1.0</td>\n",
       "      <td>0.666667</td>\n",
       "    </tr>\n",
       "    <tr>\n",
       "      <th>6</th>\n",
       "      <td>A14A5Q8VJK5NLR</td>\n",
       "      <td>0000029831</td>\n",
       "      <td>0.5</td>\n",
       "      <td>1.000000</td>\n",
       "    </tr>\n",
       "    <tr>\n",
       "      <th>7</th>\n",
       "      <td>A3W2PX96K1BA3M</td>\n",
       "      <td>0000029831</td>\n",
       "      <td>1.0</td>\n",
       "      <td>1.000000</td>\n",
       "    </tr>\n",
       "    <tr>\n",
       "      <th>8</th>\n",
       "      <td>A2GKR2Q7MD8DG4</td>\n",
       "      <td>0000029831</td>\n",
       "      <td>1.0</td>\n",
       "      <td>1.000000</td>\n",
       "    </tr>\n",
       "    <tr>\n",
       "      <th>9</th>\n",
       "      <td>A1MC4E00RO5E9T</td>\n",
       "      <td>0000029831</td>\n",
       "      <td>1.0</td>\n",
       "      <td>1.000000</td>\n",
       "    </tr>\n",
       "    <tr>\n",
       "      <th>...</th>\n",
       "      <td>...</td>\n",
       "      <td>...</td>\n",
       "      <td>...</td>\n",
       "      <td>...</td>\n",
       "    </tr>\n",
       "    <tr>\n",
       "      <th>41135696</th>\n",
       "      <td>A3PLMYQCFRHU24</td>\n",
       "      <td>BT00DDVMVQ</td>\n",
       "      <td>0.5</td>\n",
       "      <td>0.333333</td>\n",
       "    </tr>\n",
       "    <tr>\n",
       "      <th>41135697</th>\n",
       "      <td>A2TNQ87GWTKOON</td>\n",
       "      <td>BT00DDVMVQ</td>\n",
       "      <td>-1.0</td>\n",
       "      <td>0.166667</td>\n",
       "    </tr>\n",
       "    <tr>\n",
       "      <th>41135698</th>\n",
       "      <td>A6D3XGIXKU5HQ</td>\n",
       "      <td>BT00DDVMVQ</td>\n",
       "      <td>1.0</td>\n",
       "      <td>1.000000</td>\n",
       "    </tr>\n",
       "    <tr>\n",
       "      <th>41135699</th>\n",
       "      <td>A1CC2HQ8XCA28P</td>\n",
       "      <td>BT00DDVMVQ</td>\n",
       "      <td>1.0</td>\n",
       "      <td>1.000000</td>\n",
       "    </tr>\n",
       "    <tr>\n",
       "      <th>41135700</th>\n",
       "      <td>A3JOOHBBF3BH4X</td>\n",
       "      <td>BT00DDVMVQ</td>\n",
       "      <td>1.0</td>\n",
       "      <td>0.454545</td>\n",
       "    </tr>\n",
       "  </tbody>\n",
       "</table>\n",
       "<p>18875759 rows × 4 columns</p>\n",
       "</div>"
      ],
      "text/plain": [
       "              reviewerID        asin  rating  helpfulness\n",
       "2         A2SUAM1J3GNN3B  0000013714     1.0     0.666667\n",
       "6         A14A5Q8VJK5NLR  0000029831     0.5     1.000000\n",
       "7         A3W2PX96K1BA3M  0000029831     1.0     1.000000\n",
       "8         A2GKR2Q7MD8DG4  0000029831     1.0     1.000000\n",
       "9         A1MC4E00RO5E9T  0000029831     1.0     1.000000\n",
       "...                  ...         ...     ...          ...\n",
       "41135696  A3PLMYQCFRHU24  BT00DDVMVQ     0.5     0.333333\n",
       "41135697  A2TNQ87GWTKOON  BT00DDVMVQ    -1.0     0.166667\n",
       "41135698   A6D3XGIXKU5HQ  BT00DDVMVQ     1.0     1.000000\n",
       "41135699  A1CC2HQ8XCA28P  BT00DDVMVQ     1.0     1.000000\n",
       "41135700  A3JOOHBBF3BH4X  BT00DDVMVQ     1.0     0.454545\n",
       "\n",
       "[18875759 rows x 4 columns]"
      ]
     },
     "execution_count": 4,
     "metadata": {},
     "output_type": "execute_result"
    }
   ],
   "source": [
    "# Process data and generate helpfulness score\n",
    "def parse(path):\n",
    "    g = gzip.open(path, 'rb')\n",
    "    for l in g:\n",
    "        yield eval(l)\n",
    "\n",
    "def get_df(path, benign=0.8, fraudulent=0.2):\n",
    "    i = 0\n",
    "    df = {}\n",
    "    for d in parse(path):\n",
    "        i += 1\n",
    "        # report every 5m\n",
    "        if not i % 5000000:\n",
    "            print(f'{i} reviews processed!')\n",
    "        # skip if no helpful information\n",
    "        if not d['helpful'][1]:\n",
    "            continue\n",
    "        # extract useful features\n",
    "        df[i] = {}\n",
    "        for k in ['reviewerID', 'asin']:\n",
    "            df[i][k] = d[k]\n",
    "        df[i]['rating'] = (d['overall'] - 3) / 2\n",
    "        df[i]['helpfulness'] = d['helpful'][0]/d['helpful'][1]\n",
    "    df = pd.DataFrame.from_dict(df, orient='index')\n",
    "    return df\n",
    "df = get_df(filename)\n",
    "df"
   ]
  },
  {
   "cell_type": "markdown",
   "id": "84e076fe",
   "metadata": {},
   "source": [
    "Check the benign and fraudulent user counts in the original dataset."
   ]
  },
  {
   "cell_type": "code",
   "execution_count": 5,
   "id": "0d2dd728",
   "metadata": {
    "scrolled": true
   },
   "outputs": [
    {
     "name": "stdout",
     "output_type": "stream",
     "text": [
      "Benign users: 1139382\n",
      "Fraudulent users: 151789\n"
     ]
    }
   ],
   "source": [
    "users = df.groupby('reviewerID').helpfulness.mean()\n",
    "benign = users[users > 0.8]\n",
    "fraudulent = users[users < 0.2]\n",
    "print(f'Benign users: {len(benign)}')\n",
    "print(f'Fraudulent users: {len(fraudulent)}')"
   ]
  },
  {
   "cell_type": "markdown",
   "id": "66c05ac7",
   "metadata": {},
   "source": [
    "Select only benign and fraudulent users. Discard the other users without label."
   ]
  },
  {
   "cell_type": "code",
   "execution_count": 6,
   "id": "0a7a4978",
   "metadata": {},
   "outputs": [
    {
     "data": {
      "text/html": [
       "<div>\n",
       "<style scoped>\n",
       "    .dataframe tbody tr th:only-of-type {\n",
       "        vertical-align: middle;\n",
       "    }\n",
       "\n",
       "    .dataframe tbody tr th {\n",
       "        vertical-align: top;\n",
       "    }\n",
       "\n",
       "    .dataframe thead th {\n",
       "        text-align: right;\n",
       "    }\n",
       "</style>\n",
       "<table border=\"1\" class=\"dataframe\">\n",
       "  <thead>\n",
       "    <tr style=\"text-align: right;\">\n",
       "      <th></th>\n",
       "      <th>reviewerID</th>\n",
       "      <th>asin</th>\n",
       "      <th>rating</th>\n",
       "      <th>helpfulness</th>\n",
       "      <th>label</th>\n",
       "    </tr>\n",
       "  </thead>\n",
       "  <tbody>\n",
       "    <tr>\n",
       "      <th>6</th>\n",
       "      <td>A14A5Q8VJK5NLR</td>\n",
       "      <td>0000029831</td>\n",
       "      <td>0.5</td>\n",
       "      <td>1.000000</td>\n",
       "      <td>Benign</td>\n",
       "    </tr>\n",
       "    <tr>\n",
       "      <th>7</th>\n",
       "      <td>A3W2PX96K1BA3M</td>\n",
       "      <td>0000029831</td>\n",
       "      <td>1.0</td>\n",
       "      <td>1.000000</td>\n",
       "      <td>Benign</td>\n",
       "    </tr>\n",
       "    <tr>\n",
       "      <th>9</th>\n",
       "      <td>A1MC4E00RO5E9T</td>\n",
       "      <td>0000029831</td>\n",
       "      <td>1.0</td>\n",
       "      <td>1.000000</td>\n",
       "      <td>Benign</td>\n",
       "    </tr>\n",
       "    <tr>\n",
       "      <th>49</th>\n",
       "      <td>A2RAGC7VLO78QG</td>\n",
       "      <td>0000031887</td>\n",
       "      <td>0.5</td>\n",
       "      <td>1.000000</td>\n",
       "      <td>Benign</td>\n",
       "    </tr>\n",
       "    <tr>\n",
       "      <th>52</th>\n",
       "      <td>A12OFS8WQP86O5</td>\n",
       "      <td>0000031887</td>\n",
       "      <td>1.0</td>\n",
       "      <td>0.869565</td>\n",
       "      <td>Benign</td>\n",
       "    </tr>\n",
       "    <tr>\n",
       "      <th>...</th>\n",
       "      <td>...</td>\n",
       "      <td>...</td>\n",
       "      <td>...</td>\n",
       "      <td>...</td>\n",
       "      <td>...</td>\n",
       "    </tr>\n",
       "    <tr>\n",
       "      <th>41132360</th>\n",
       "      <td>A32PHKD604WRG7</td>\n",
       "      <td>B00LTFG8EC</td>\n",
       "      <td>0.0</td>\n",
       "      <td>0.000000</td>\n",
       "      <td>Fraudulent</td>\n",
       "    </tr>\n",
       "    <tr>\n",
       "      <th>41132943</th>\n",
       "      <td>A1KBQ2GO5TN1VH</td>\n",
       "      <td>B00LUXND82</td>\n",
       "      <td>-1.0</td>\n",
       "      <td>0.000000</td>\n",
       "      <td>Fraudulent</td>\n",
       "    </tr>\n",
       "    <tr>\n",
       "      <th>41133093</th>\n",
       "      <td>A1PQH8Z7XBRGD8</td>\n",
       "      <td>B00LVEZYOQ</td>\n",
       "      <td>-1.0</td>\n",
       "      <td>0.000000</td>\n",
       "      <td>Fraudulent</td>\n",
       "    </tr>\n",
       "    <tr>\n",
       "      <th>41133297</th>\n",
       "      <td>A08001923S5BQH48HJ5FF</td>\n",
       "      <td>B00LWRN8SQ</td>\n",
       "      <td>1.0</td>\n",
       "      <td>0.000000</td>\n",
       "      <td>Fraudulent</td>\n",
       "    </tr>\n",
       "    <tr>\n",
       "      <th>41135687</th>\n",
       "      <td>A8DH3X2WRD3UO</td>\n",
       "      <td>BT00DDVMVQ</td>\n",
       "      <td>0.5</td>\n",
       "      <td>0.000000</td>\n",
       "      <td>Fraudulent</td>\n",
       "    </tr>\n",
       "  </tbody>\n",
       "</table>\n",
       "<p>7107248 rows × 5 columns</p>\n",
       "</div>"
      ],
      "text/plain": [
       "                     reviewerID        asin  rating  helpfulness       label\n",
       "6                A14A5Q8VJK5NLR  0000029831     0.5     1.000000      Benign\n",
       "7                A3W2PX96K1BA3M  0000029831     1.0     1.000000      Benign\n",
       "9                A1MC4E00RO5E9T  0000029831     1.0     1.000000      Benign\n",
       "49               A2RAGC7VLO78QG  0000031887     0.5     1.000000      Benign\n",
       "52               A12OFS8WQP86O5  0000031887     1.0     0.869565      Benign\n",
       "...                         ...         ...     ...          ...         ...\n",
       "41132360         A32PHKD604WRG7  B00LTFG8EC     0.0     0.000000  Fraudulent\n",
       "41132943         A1KBQ2GO5TN1VH  B00LUXND82    -1.0     0.000000  Fraudulent\n",
       "41133093         A1PQH8Z7XBRGD8  B00LVEZYOQ    -1.0     0.000000  Fraudulent\n",
       "41133297  A08001923S5BQH48HJ5FF  B00LWRN8SQ     1.0     0.000000  Fraudulent\n",
       "41135687          A8DH3X2WRD3UO  BT00DDVMVQ     0.5     0.000000  Fraudulent\n",
       "\n",
       "[7107248 rows x 5 columns]"
      ]
     },
     "execution_count": 6,
     "metadata": {},
     "output_type": "execute_result"
    }
   ],
   "source": [
    "df_benign = df[df.reviewerID.isin(set(benign.index))].copy()\n",
    "df_benign['label'] = 'Benign'\n",
    "df_fra = df[df.reviewerID.isin(set(fraudulent.index))].copy()\n",
    "df_fra['label'] = 'Fraudulent'\n",
    "df = pd.concat([df_benign, df_fra])\n",
    "df"
   ]
  },
  {
   "cell_type": "markdown",
   "id": "4cb003da",
   "metadata": {},
   "source": [
    "Check the number of reviews from benign and fraudulent users."
   ]
  },
  {
   "cell_type": "code",
   "execution_count": 7,
   "id": "851be3cf",
   "metadata": {},
   "outputs": [
    {
     "name": "stdout",
     "output_type": "stream",
     "text": [
      "Reviews from benign users: 6828872\n",
      "Reviews from fraudulent users: 278376\n"
     ]
    }
   ],
   "source": [
    "counts = Counter(df.label)\n",
    "print(f'Reviews from benign users: {counts[\"Benign\"]}')\n",
    "print(f'Reviews from fraudulent users: {counts[\"Fraudulent\"]}')"
   ]
  },
  {
   "cell_type": "markdown",
   "id": "30714b84",
   "metadata": {},
   "source": [
    "Generate k-core dataset"
   ]
  },
  {
   "cell_type": "code",
   "execution_count": 8,
   "id": "45be380a",
   "metadata": {},
   "outputs": [
    {
     "data": {
      "text/html": [
       "<div>\n",
       "<style scoped>\n",
       "    .dataframe tbody tr th:only-of-type {\n",
       "        vertical-align: middle;\n",
       "    }\n",
       "\n",
       "    .dataframe tbody tr th {\n",
       "        vertical-align: top;\n",
       "    }\n",
       "\n",
       "    .dataframe thead th {\n",
       "        text-align: right;\n",
       "    }\n",
       "</style>\n",
       "<table border=\"1\" class=\"dataframe\">\n",
       "  <thead>\n",
       "    <tr style=\"text-align: right;\">\n",
       "      <th></th>\n",
       "      <th>reviewerID</th>\n",
       "      <th>asin</th>\n",
       "      <th>rating</th>\n",
       "    </tr>\n",
       "  </thead>\n",
       "  <tbody>\n",
       "    <tr>\n",
       "      <th>52</th>\n",
       "      <td>A12OFS8WQP86O5</td>\n",
       "      <td>0000031887</td>\n",
       "      <td>1.0</td>\n",
       "    </tr>\n",
       "    <tr>\n",
       "      <th>76</th>\n",
       "      <td>A2Y0ZD9CYGAS1S</td>\n",
       "      <td>0000031887</td>\n",
       "      <td>0.5</td>\n",
       "    </tr>\n",
       "    <tr>\n",
       "      <th>80</th>\n",
       "      <td>A3EERSWHAI6SO</td>\n",
       "      <td>0000031887</td>\n",
       "      <td>1.0</td>\n",
       "    </tr>\n",
       "    <tr>\n",
       "      <th>121</th>\n",
       "      <td>A2NXWW4QCL1EU1</td>\n",
       "      <td>0000031887</td>\n",
       "      <td>1.0</td>\n",
       "    </tr>\n",
       "    <tr>\n",
       "      <th>170</th>\n",
       "      <td>A5Y15SAOMX6XA</td>\n",
       "      <td>0000589012</td>\n",
       "      <td>-0.5</td>\n",
       "    </tr>\n",
       "    <tr>\n",
       "      <th>...</th>\n",
       "      <td>...</td>\n",
       "      <td>...</td>\n",
       "      <td>...</td>\n",
       "    </tr>\n",
       "    <tr>\n",
       "      <th>41123081</th>\n",
       "      <td>AD9JN9OJUQOJU</td>\n",
       "      <td>B00LFRBSVM</td>\n",
       "      <td>1.0</td>\n",
       "    </tr>\n",
       "    <tr>\n",
       "      <th>41123379</th>\n",
       "      <td>AZ0WVYQHWSMVU</td>\n",
       "      <td>B00LG0DKBO</td>\n",
       "      <td>0.0</td>\n",
       "    </tr>\n",
       "    <tr>\n",
       "      <th>41123923</th>\n",
       "      <td>A2AEMXSQ3WKIPF</td>\n",
       "      <td>B00LGABA7U</td>\n",
       "      <td>-0.5</td>\n",
       "    </tr>\n",
       "    <tr>\n",
       "      <th>41126046</th>\n",
       "      <td>AF8K7HXE8Y1TO</td>\n",
       "      <td>B00LJKGSZQ</td>\n",
       "      <td>1.0</td>\n",
       "    </tr>\n",
       "    <tr>\n",
       "      <th>41130662</th>\n",
       "      <td>A3N1H6YEJB92I0</td>\n",
       "      <td>B00LPVVEQ2</td>\n",
       "      <td>1.0</td>\n",
       "    </tr>\n",
       "  </tbody>\n",
       "</table>\n",
       "<p>5164530 rows × 3 columns</p>\n",
       "</div>"
      ],
      "text/plain": [
       "              reviewerID        asin  rating\n",
       "52        A12OFS8WQP86O5  0000031887     1.0\n",
       "76        A2Y0ZD9CYGAS1S  0000031887     0.5\n",
       "80         A3EERSWHAI6SO  0000031887     1.0\n",
       "121       A2NXWW4QCL1EU1  0000031887     1.0\n",
       "170        A5Y15SAOMX6XA  0000589012    -0.5\n",
       "...                  ...         ...     ...\n",
       "41123081   AD9JN9OJUQOJU  B00LFRBSVM     1.0\n",
       "41123379   AZ0WVYQHWSMVU  B00LG0DKBO     0.0\n",
       "41123923  A2AEMXSQ3WKIPF  B00LGABA7U    -0.5\n",
       "41126046   AF8K7HXE8Y1TO  B00LJKGSZQ     1.0\n",
       "41130662  A3N1H6YEJB92I0  B00LPVVEQ2     1.0\n",
       "\n",
       "[5164530 rows x 3 columns]"
      ]
     },
     "execution_count": 8,
     "metadata": {},
     "output_type": "execute_result"
    }
   ],
   "source": [
    "k = 3\n",
    "output = f'{folder}/processed_{k}-core_80_20.csv'\n",
    "# Repeatly remove the users with less than k reviews, \n",
    "# then remove the items with less than k reviews until\n",
    "# no one is removed.\n",
    "diff = 1\n",
    "while diff:\n",
    "    cache = len(df)\n",
    "    counts = df.groupby('reviewerID').asin.count()\n",
    "    counts = counts[counts >= k]\n",
    "    df = df[df.reviewerID.isin(set(counts.index))]\n",
    "    counts = df.groupby('asin').reviewerID.count()\n",
    "    counts = counts[counts >= k]\n",
    "    df = df[df.asin.isin(set(counts.index))]\n",
    "    diff = cache - len(df)\n",
    "df_out = df[['reviewerID', 'asin', 'rating']]\n",
    "df_out.to_csv(f'{folder}/processed_{k}-core_80_20.csv', index=False)\n",
    "df_out"
   ]
  },
  {
   "cell_type": "markdown",
   "id": "6ae9ba84",
   "metadata": {},
   "source": [
    "Check the number of reviews from benign and fraudulent users again"
   ]
  },
  {
   "cell_type": "code",
   "execution_count": 9,
   "id": "b9b25ac3",
   "metadata": {},
   "outputs": [
    {
     "name": "stdout",
     "output_type": "stream",
     "text": [
      "Benign users: 601030\n",
      "Fraudulent users: 22752\n",
      "Reviews from benign users: 5071608\n",
      "Reviews from fraudulent users: 92922\n"
     ]
    }
   ],
   "source": [
    "benign = set(df[df.label == 'Benign'].reviewerID.unique())\n",
    "fraudulent = set(df[df.label == 'Fraudulent'].reviewerID.unique())\n",
    "print(f'Benign users: {len(benign)}')\n",
    "print(f'Fraudulent users: {len(fraudulent)}')\n",
    "counts = Counter(df.label)\n",
    "print(f'Reviews from benign users: {counts[\"Benign\"]}')\n",
    "print(f'Reviews from fraudulent users: {counts[\"Fraudulent\"]}')"
   ]
  },
  {
   "cell_type": "code",
   "execution_count": 10,
   "id": "12427afc",
   "metadata": {},
   "outputs": [
    {
     "data": {
      "text/plain": [
       "0.8477272727272727"
      ]
     },
     "execution_count": 10,
     "metadata": {},
     "output_type": "execute_result"
    }
   ],
   "source": [
    "users['AZZZ3LGTCGUZF']"
   ]
  },
  {
   "cell_type": "markdown",
   "id": "2c35a4fe",
   "metadata": {},
   "source": [
    "Output user labels"
   ]
  },
  {
   "cell_type": "code",
   "execution_count": 11,
   "id": "42631388",
   "metadata": {},
   "outputs": [],
   "source": [
    "userfile = f'{folder}/user_label.csv'\n",
    "with open(userfile, 'w') as fw:\n",
    "    fw.write('reviewerID,fairness,label\\n')\n",
    "    for u in benign:\n",
    "        fw.write(f'{u},{users[u]},Benign\\n')\n",
    "    for u in fraudulent:\n",
    "        fw.write(f'{u},{users[u]},Fraudulent\\n')"
   ]
  },
  {
   "cell_type": "markdown",
   "id": "e2baa593",
   "metadata": {},
   "source": [
    "## 2. Generate toy datasets for coding\n",
    "Here, toy datasets are generated to speed up model design and debugging."
   ]
  },
  {
   "cell_type": "code",
   "execution_count": 12,
   "id": "2bc0d98d",
   "metadata": {},
   "outputs": [
    {
     "data": {
      "text/html": [
       "<div>\n",
       "<style scoped>\n",
       "    .dataframe tbody tr th:only-of-type {\n",
       "        vertical-align: middle;\n",
       "    }\n",
       "\n",
       "    .dataframe tbody tr th {\n",
       "        vertical-align: top;\n",
       "    }\n",
       "\n",
       "    .dataframe thead th {\n",
       "        text-align: right;\n",
       "    }\n",
       "</style>\n",
       "<table border=\"1\" class=\"dataframe\">\n",
       "  <thead>\n",
       "    <tr style=\"text-align: right;\">\n",
       "      <th></th>\n",
       "      <th>reviewerID</th>\n",
       "      <th>asin</th>\n",
       "      <th>rating</th>\n",
       "      <th>helpfulness</th>\n",
       "      <th>label</th>\n",
       "    </tr>\n",
       "  </thead>\n",
       "  <tbody>\n",
       "    <tr>\n",
       "      <th>525</th>\n",
       "      <td>A14CC5FIPR5YVF</td>\n",
       "      <td>0001055178</td>\n",
       "      <td>0.5</td>\n",
       "      <td>1.0</td>\n",
       "      <td>Benign</td>\n",
       "    </tr>\n",
       "    <tr>\n",
       "      <th>528</th>\n",
       "      <td>A19D816DMGI44L</td>\n",
       "      <td>0001055178</td>\n",
       "      <td>1.0</td>\n",
       "      <td>0.0</td>\n",
       "      <td>Benign</td>\n",
       "    </tr>\n",
       "    <tr>\n",
       "      <th>530</th>\n",
       "      <td>A12RI2CLUGCZ26</td>\n",
       "      <td>0001055178</td>\n",
       "      <td>0.5</td>\n",
       "      <td>1.0</td>\n",
       "      <td>Benign</td>\n",
       "    </tr>\n",
       "    <tr>\n",
       "      <th>781</th>\n",
       "      <td>A14FER0RLJLB5Z</td>\n",
       "      <td>0002007770</td>\n",
       "      <td>1.0</td>\n",
       "      <td>1.0</td>\n",
       "      <td>Benign</td>\n",
       "    </tr>\n",
       "    <tr>\n",
       "      <th>808</th>\n",
       "      <td>A15OS6GWJ26FB1</td>\n",
       "      <td>0002007770</td>\n",
       "      <td>1.0</td>\n",
       "      <td>1.0</td>\n",
       "      <td>Benign</td>\n",
       "    </tr>\n",
       "    <tr>\n",
       "      <th>...</th>\n",
       "      <td>...</td>\n",
       "      <td>...</td>\n",
       "      <td>...</td>\n",
       "      <td>...</td>\n",
       "      <td>...</td>\n",
       "    </tr>\n",
       "    <tr>\n",
       "      <th>40801549</th>\n",
       "      <td>A1M0LXJIZOAE0Y</td>\n",
       "      <td>B00IK5AGAQ</td>\n",
       "      <td>0.5</td>\n",
       "      <td>0.0</td>\n",
       "      <td>Fraudulent</td>\n",
       "    </tr>\n",
       "    <tr>\n",
       "      <th>40851230</th>\n",
       "      <td>A1SFGNFF4HMCKW</td>\n",
       "      <td>B00IT1WJZQ</td>\n",
       "      <td>0.5</td>\n",
       "      <td>0.0</td>\n",
       "      <td>Fraudulent</td>\n",
       "    </tr>\n",
       "    <tr>\n",
       "      <th>40924525</th>\n",
       "      <td>A1LMX0QT4PVPHZ</td>\n",
       "      <td>B00JAQJMJ0</td>\n",
       "      <td>0.0</td>\n",
       "      <td>0.3</td>\n",
       "      <td>Fraudulent</td>\n",
       "    </tr>\n",
       "    <tr>\n",
       "      <th>40981061</th>\n",
       "      <td>A006458827ALF2J23JJTO</td>\n",
       "      <td>B00JQR8D6G</td>\n",
       "      <td>1.0</td>\n",
       "      <td>0.0</td>\n",
       "      <td>Fraudulent</td>\n",
       "    </tr>\n",
       "    <tr>\n",
       "      <th>41096137</th>\n",
       "      <td>A1HLYG6OQ23GT2</td>\n",
       "      <td>B00KWVZ750</td>\n",
       "      <td>-0.5</td>\n",
       "      <td>0.0</td>\n",
       "      <td>Fraudulent</td>\n",
       "    </tr>\n",
       "  </tbody>\n",
       "</table>\n",
       "<p>82833 rows × 5 columns</p>\n",
       "</div>"
      ],
      "text/plain": [
       "                     reviewerID        asin  rating  helpfulness       label\n",
       "525              A14CC5FIPR5YVF  0001055178     0.5          1.0      Benign\n",
       "528              A19D816DMGI44L  0001055178     1.0          0.0      Benign\n",
       "530              A12RI2CLUGCZ26  0001055178     0.5          1.0      Benign\n",
       "781              A14FER0RLJLB5Z  0002007770     1.0          1.0      Benign\n",
       "808              A15OS6GWJ26FB1  0002007770     1.0          1.0      Benign\n",
       "...                         ...         ...     ...          ...         ...\n",
       "40801549         A1M0LXJIZOAE0Y  B00IK5AGAQ     0.5          0.0  Fraudulent\n",
       "40851230         A1SFGNFF4HMCKW  B00IT1WJZQ     0.5          0.0  Fraudulent\n",
       "40924525         A1LMX0QT4PVPHZ  B00JAQJMJ0     0.0          0.3  Fraudulent\n",
       "40981061  A006458827ALF2J23JJTO  B00JQR8D6G     1.0          0.0  Fraudulent\n",
       "41096137         A1HLYG6OQ23GT2  B00KWVZ750    -0.5          0.0  Fraudulent\n",
       "\n",
       "[82833 rows x 5 columns]"
      ]
     },
     "execution_count": 12,
     "metadata": {},
     "output_type": "execute_result"
    }
   ],
   "source": [
    "# select users\n",
    "n_benign = 50000\n",
    "n_fraudulent = 5000\n",
    "toy_users = set(sorted(list(benign))[:n_benign] + sorted(list(fraudulent))[:n_fraudulent])\n",
    "df_toy = df[df.reviewerID.isin(toy_users)].copy()\n",
    "\n",
    "# k-core dataset\n",
    "k = 3\n",
    "toy_out = f'{folder}/toy_{k}-core_80_20.csv'\n",
    "diff = 1\n",
    "while diff:\n",
    "    cache = len(df_toy)\n",
    "    counts = df_toy.groupby('reviewerID').asin.count()\n",
    "    counts = counts[counts >= k]\n",
    "    df_toy = df_toy[df_toy.reviewerID.isin(set(counts.index))]\n",
    "    counts = df_toy.groupby('asin').reviewerID.count()\n",
    "    counts = counts[counts >= k]\n",
    "    df_toy = df_toy[df_toy.asin.isin(set(counts.index))]\n",
    "    diff = cache - len(df_toy)\n",
    "df_toy_out = df_toy[['reviewerID', 'asin', 'rating']]\n",
    "df_toy_out.to_csv(toy_out, index=False)\n",
    "df_toy"
   ]
  },
  {
   "cell_type": "markdown",
   "id": "1f603fda",
   "metadata": {},
   "source": [
    "Statistics for toy dataset."
   ]
  },
  {
   "cell_type": "code",
   "execution_count": 13,
   "id": "9a414f86",
   "metadata": {},
   "outputs": [
    {
     "name": "stdout",
     "output_type": "stream",
     "text": [
      "Benign users: 11908\n",
      "Fraudulent users: 826\n",
      "Reviews from benign users: 79687\n",
      "Reviews from fraudulent users: 3146\n"
     ]
    }
   ],
   "source": [
    "toy_benign = set(df_toy[df_toy.label == 'Benign'].reviewerID.unique())\n",
    "toy_fraudulent = set(df_toy[df_toy.label == 'Fraudulent'].reviewerID.unique())\n",
    "print(f'Benign users: {len(toy_benign)}')\n",
    "print(f'Fraudulent users: {len(toy_fraudulent)}')\n",
    "counts = Counter(df_toy.label)\n",
    "print(f'Reviews from benign users: {counts[\"Benign\"]}')\n",
    "print(f'Reviews from fraudulent users: {counts[\"Fraudulent\"]}')"
   ]
  },
  {
   "cell_type": "markdown",
   "id": "b126afe6",
   "metadata": {},
   "source": [
    "Output user labels"
   ]
  },
  {
   "cell_type": "code",
   "execution_count": 14,
   "id": "92f3e641",
   "metadata": {},
   "outputs": [],
   "source": [
    "toy_userfile = f'{folder}/toy_user_label.csv'\n",
    "with open(toy_userfile, 'w') as fw:\n",
    "    fw.write('reviewerID,fairness,label\\n')\n",
    "    for u in toy_benign:\n",
    "        fw.write(f'{u},{users[u]},Benign\\n')\n",
    "    for u in toy_fraudulent:\n",
    "        fw.write(f'{u},{users[u]},Fraudulent\\n')"
   ]
  },
  {
   "cell_type": "markdown",
   "id": "54c00632",
   "metadata": {},
   "source": [
    "## 3. Generate dataset with text reviews\n",
    "\n",
    "Here, we generate the dataset with text reviews of same review, which can help us to incorporate text embeddings."
   ]
  },
  {
   "cell_type": "code",
   "execution_count": 15,
   "id": "1e969110",
   "metadata": {},
   "outputs": [
    {
     "name": "stdout",
     "output_type": "stream",
     "text": [
      "5000000 reviews processed!\n",
      "10000000 reviews processed!\n",
      "15000000 reviews processed!\n",
      "20000000 reviews processed!\n",
      "25000000 reviews processed!\n",
      "30000000 reviews processed!\n",
      "35000000 reviews processed!\n",
      "40000000 reviews processed!\n"
     ]
    }
   ],
   "source": [
    "# output name\n",
    "output = f'{folder}/processed_{k}-core_80_20_with_text.csv'\n",
    "output_toy = f'{folder}/toy_{k}-core_80_20_with_text.csv'\n",
    "# Only output the reviews from benign or fraudulent users\n",
    "products = set(df.asin.unique())\n",
    "reviewers = set(df.reviewerID.unique())\n",
    "toy_products = set(df_toy.asin.unique())\n",
    "toy_reviewers = set(df_toy.reviewerID.unique())\n",
    "with open(output, 'w') as fw, open(output_toy, 'w') as ftoy:\n",
    "    # header\n",
    "    fw.write('reviewerID,asin,rating,reviewText\\n')\n",
    "    ftoy.write('reviewerID,asin,rating,reviewText\\n')\n",
    "    i=0\n",
    "    for d in parse(filename):\n",
    "        i += 1\n",
    "        # report every 5m\n",
    "        if not i % 5000000:\n",
    "            print(f'{i} reviews processed!')\n",
    "        if not d['helpful'][1]:\n",
    "            continue\n",
    "        # skip unselected users and items\n",
    "        if d['reviewerID'] in reviewers and d['asin'] in products:\n",
    "            fw.write(','.join([d['reviewerID'], d['asin'], str((d['overall']-3)/2), \\\n",
    "                           d['reviewText'].replace('\\n',' ').replace(',', ' ')]) + '\\n')\n",
    "        if d['reviewerID'] in toy_reviewers and d['asin'] in toy_products:\n",
    "            ftoy.write(','.join([d['reviewerID'], d['asin'], str((d['overall']-3)/2), \\\n",
    "                             d['reviewText'].replace('\\n', ' ').replace(', ', ' ')]) + '\\n')"
   ]
  },
  {
   "cell_type": "code",
   "execution_count": 16,
   "id": "b9c25adc",
   "metadata": {},
   "outputs": [
    {
     "data": {
      "text/plain": [
       "18525"
      ]
     },
     "execution_count": 16,
     "metadata": {},
     "output_type": "execute_result"
    }
   ],
   "source": [
    "len(toy_products)"
   ]
  }
 ],
 "metadata": {
  "kernelspec": {
   "display_name": "Python 3 (ipykernel)",
   "language": "python",
   "name": "python3"
  },
  "language_info": {
   "codemirror_mode": {
    "name": "ipython",
    "version": 3
   },
   "file_extension": ".py",
   "mimetype": "text/x-python",
   "name": "python",
   "nbconvert_exporter": "python",
   "pygments_lexer": "ipython3",
   "version": "3.9.9"
  }
 },
 "nbformat": 4,
 "nbformat_minor": 5
}
