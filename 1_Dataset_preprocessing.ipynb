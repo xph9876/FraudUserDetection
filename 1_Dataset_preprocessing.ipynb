{
 "cells": [
  {
   "cell_type": "markdown",
   "id": "4caf0959",
   "metadata": {},
   "source": [
    "# Fraudulent User Detection Using Amazon Dataset\n",
    "### Penghao Xu, Yuan Chen, Jiawei Wu, Haojing Lu\n",
    "\n",
    "## Part 1. Dataset preprocessing\n",
    "\n",
    "This script is used to clean the Amazon review dataset (http://jmcauley.ucsd.edu/data/amazon/links.html) and generate data for baseline and the new proposed model.\n"
   ]
  },
  {
   "cell_type": "code",
   "execution_count": 1,
   "id": "43f17224",
   "metadata": {},
   "outputs": [],
   "source": [
    "import json\n",
    "import pandas as pd\n",
    "import gzip\n",
    "import os\n",
    "import numpy as np\n",
    "from collections import Counter"
   ]
  },
  {
   "cell_type": "markdown",
   "id": "28bab77f",
   "metadata": {},
   "source": [
    "Download data if needed"
   ]
  },
  {
   "cell_type": "code",
   "execution_count": 2,
   "id": "d2688f25",
   "metadata": {},
   "outputs": [],
   "source": [
    "# Uncomment to download data\n",
    "# !wget http://snap.stanford.edu/data/amazon/productGraph/kcore_5.json.gz"
   ]
  },
  {
   "cell_type": "code",
   "execution_count": 3,
   "id": "51cd5a29",
   "metadata": {},
   "outputs": [],
   "source": [
    "## 5-core data is used in this study\n",
    "# DO NOT extract the dataset. gzip format is required\n",
    "filename = 'kcore_5.json.gz'\n",
    "assert filename.endswith('gz'), 'Gzipped dataset is required!'\n",
    "\n",
    "# set output folder\n",
    "folder = 'dataset'\n",
    "if not os.path.isdir(folder):\n",
    "    os.mkdir(folder)"
   ]
  },
  {
   "cell_type": "markdown",
   "id": "7230faca",
   "metadata": {},
   "source": [
    "## 1. Generate rating-only dataset\n",
    "The rating-only dataset has 4 columns: User, item, and rating. This dataset is used for baseline model REV2"
   ]
  },
  {
   "cell_type": "code",
   "execution_count": 4,
   "id": "32928253",
   "metadata": {},
   "outputs": [
    {
     "name": "stdout",
     "output_type": "stream",
     "text": [
      "5000000 reviews processed!\n",
      "10000000 reviews processed!\n",
      "15000000 reviews processed!\n",
      "20000000 reviews processed!\n",
      "25000000 reviews processed!\n",
      "30000000 reviews processed!\n",
      "35000000 reviews processed!\n",
      "40000000 reviews processed!\n"
     ]
    },
    {
     "data": {
      "text/html": [
       "<div>\n",
       "<style scoped>\n",
       "    .dataframe tbody tr th:only-of-type {\n",
       "        vertical-align: middle;\n",
       "    }\n",
       "\n",
       "    .dataframe tbody tr th {\n",
       "        vertical-align: top;\n",
       "    }\n",
       "\n",
       "    .dataframe thead th {\n",
       "        text-align: right;\n",
       "    }\n",
       "</style>\n",
       "<table border=\"1\" class=\"dataframe\">\n",
       "  <thead>\n",
       "    <tr style=\"text-align: right;\">\n",
       "      <th></th>\n",
       "      <th>reviewerID</th>\n",
       "      <th>asin</th>\n",
       "      <th>rating</th>\n",
       "      <th>helpfulness</th>\n",
       "    </tr>\n",
       "  </thead>\n",
       "  <tbody>\n",
       "    <tr>\n",
       "      <th>2</th>\n",
       "      <td>A2SUAM1J3GNN3B</td>\n",
       "      <td>0000013714</td>\n",
       "      <td>1.0</td>\n",
       "      <td>0.666667</td>\n",
       "    </tr>\n",
       "    <tr>\n",
       "      <th>6</th>\n",
       "      <td>A14A5Q8VJK5NLR</td>\n",
       "      <td>0000029831</td>\n",
       "      <td>0.5</td>\n",
       "      <td>1.000000</td>\n",
       "    </tr>\n",
       "    <tr>\n",
       "      <th>7</th>\n",
       "      <td>A3W2PX96K1BA3M</td>\n",
       "      <td>0000029831</td>\n",
       "      <td>1.0</td>\n",
       "      <td>1.000000</td>\n",
       "    </tr>\n",
       "    <tr>\n",
       "      <th>8</th>\n",
       "      <td>A2GKR2Q7MD8DG4</td>\n",
       "      <td>0000029831</td>\n",
       "      <td>1.0</td>\n",
       "      <td>1.000000</td>\n",
       "    </tr>\n",
       "    <tr>\n",
       "      <th>9</th>\n",
       "      <td>A1MC4E00RO5E9T</td>\n",
       "      <td>0000029831</td>\n",
       "      <td>1.0</td>\n",
       "      <td>1.000000</td>\n",
       "    </tr>\n",
       "    <tr>\n",
       "      <th>...</th>\n",
       "      <td>...</td>\n",
       "      <td>...</td>\n",
       "      <td>...</td>\n",
       "      <td>...</td>\n",
       "    </tr>\n",
       "    <tr>\n",
       "      <th>41135696</th>\n",
       "      <td>A3PLMYQCFRHU24</td>\n",
       "      <td>BT00DDVMVQ</td>\n",
       "      <td>0.5</td>\n",
       "      <td>0.333333</td>\n",
       "    </tr>\n",
       "    <tr>\n",
       "      <th>41135697</th>\n",
       "      <td>A2TNQ87GWTKOON</td>\n",
       "      <td>BT00DDVMVQ</td>\n",
       "      <td>-1.0</td>\n",
       "      <td>0.166667</td>\n",
       "    </tr>\n",
       "    <tr>\n",
       "      <th>41135698</th>\n",
       "      <td>A6D3XGIXKU5HQ</td>\n",
       "      <td>BT00DDVMVQ</td>\n",
       "      <td>1.0</td>\n",
       "      <td>1.000000</td>\n",
       "    </tr>\n",
       "    <tr>\n",
       "      <th>41135699</th>\n",
       "      <td>A1CC2HQ8XCA28P</td>\n",
       "      <td>BT00DDVMVQ</td>\n",
       "      <td>1.0</td>\n",
       "      <td>1.000000</td>\n",
       "    </tr>\n",
       "    <tr>\n",
       "      <th>41135700</th>\n",
       "      <td>A3JOOHBBF3BH4X</td>\n",
       "      <td>BT00DDVMVQ</td>\n",
       "      <td>1.0</td>\n",
       "      <td>0.454545</td>\n",
       "    </tr>\n",
       "  </tbody>\n",
       "</table>\n",
       "<p>18875759 rows × 4 columns</p>\n",
       "</div>"
      ],
      "text/plain": [
       "              reviewerID        asin  rating  helpfulness\n",
       "2         A2SUAM1J3GNN3B  0000013714     1.0     0.666667\n",
       "6         A14A5Q8VJK5NLR  0000029831     0.5     1.000000\n",
       "7         A3W2PX96K1BA3M  0000029831     1.0     1.000000\n",
       "8         A2GKR2Q7MD8DG4  0000029831     1.0     1.000000\n",
       "9         A1MC4E00RO5E9T  0000029831     1.0     1.000000\n",
       "...                  ...         ...     ...          ...\n",
       "41135696  A3PLMYQCFRHU24  BT00DDVMVQ     0.5     0.333333\n",
       "41135697  A2TNQ87GWTKOON  BT00DDVMVQ    -1.0     0.166667\n",
       "41135698   A6D3XGIXKU5HQ  BT00DDVMVQ     1.0     1.000000\n",
       "41135699  A1CC2HQ8XCA28P  BT00DDVMVQ     1.0     1.000000\n",
       "41135700  A3JOOHBBF3BH4X  BT00DDVMVQ     1.0     0.454545\n",
       "\n",
       "[18875759 rows x 4 columns]"
      ]
     },
     "execution_count": 4,
     "metadata": {},
     "output_type": "execute_result"
    }
   ],
   "source": [
    "# Process data and generate helpfulness score\n",
    "def parse(path):\n",
    "    g = gzip.open(path, 'rb')\n",
    "    for l in g:\n",
    "        yield eval(l)\n",
    "\n",
    "def get_df(path, benign=0.8, fraudulent=0.2):\n",
    "    i = 0\n",
    "    df = {}\n",
    "    for d in parse(path):\n",
    "        i += 1\n",
    "        # report every 5m\n",
    "        if not i % 5000000:\n",
    "            print(f'{i} reviews processed!')\n",
    "        # skip if no helpful information\n",
    "        if not d['helpful'][1]:\n",
    "            continue\n",
    "        # extract useful features\n",
    "        df[i] = {}\n",
    "        for k in ['reviewerID', 'asin']:\n",
    "            df[i][k] = d[k]\n",
    "        df[i]['rating'] = (d['overall'] - 3) / 2\n",
    "        df[i]['helpfulness'] = d['helpful'][0]/d['helpful'][1]\n",
    "    df = pd.DataFrame.from_dict(df, orient='index')\n",
    "    return df\n",
    "df = get_df(filename)\n",
    "df"
   ]
  },
  {
   "cell_type": "markdown",
   "id": "84e076fe",
   "metadata": {},
   "source": [
    "Check the benign and fraudulent user counts in the original dataset."
   ]
  },
  {
   "cell_type": "code",
   "execution_count": 5,
   "id": "0d2dd728",
   "metadata": {
    "scrolled": true
   },
   "outputs": [
    {
     "name": "stdout",
     "output_type": "stream",
     "text": [
      "Benign users: 1139382\n",
      "Fraudulent users: 151789\n"
     ]
    }
   ],
   "source": [
    "users = df.groupby('reviewerID').helpfulness.mean()\n",
    "benign = users[users > 0.8]\n",
    "fraudulent = users[users < 0.2]\n",
    "print(f'Benign users: {len(benign)}')\n",
    "print(f'Fraudulent users: {len(fraudulent)}')"
   ]
  },
  {
   "cell_type": "markdown",
   "id": "66c05ac7",
   "metadata": {},
   "source": [
    "Select only benign and fraudulent users. Discard the other users without label."
   ]
  },
  {
   "cell_type": "code",
   "execution_count": 6,
   "id": "0a7a4978",
   "metadata": {},
   "outputs": [
    {
     "data": {
      "text/html": [
       "<div>\n",
       "<style scoped>\n",
       "    .dataframe tbody tr th:only-of-type {\n",
       "        vertical-align: middle;\n",
       "    }\n",
       "\n",
       "    .dataframe tbody tr th {\n",
       "        vertical-align: top;\n",
       "    }\n",
       "\n",
       "    .dataframe thead th {\n",
       "        text-align: right;\n",
       "    }\n",
       "</style>\n",
       "<table border=\"1\" class=\"dataframe\">\n",
       "  <thead>\n",
       "    <tr style=\"text-align: right;\">\n",
       "      <th></th>\n",
       "      <th>reviewerID</th>\n",
       "      <th>asin</th>\n",
       "      <th>rating</th>\n",
       "      <th>helpfulness</th>\n",
       "      <th>label</th>\n",
       "    </tr>\n",
       "  </thead>\n",
       "  <tbody>\n",
       "    <tr>\n",
       "      <th>6</th>\n",
       "      <td>A14A5Q8VJK5NLR</td>\n",
       "      <td>0000029831</td>\n",
       "      <td>0.5</td>\n",
       "      <td>1.000000</td>\n",
       "      <td>Benign</td>\n",
       "    </tr>\n",
       "    <tr>\n",
       "      <th>7</th>\n",
       "      <td>A3W2PX96K1BA3M</td>\n",
       "      <td>0000029831</td>\n",
       "      <td>1.0</td>\n",
       "      <td>1.000000</td>\n",
       "      <td>Benign</td>\n",
       "    </tr>\n",
       "    <tr>\n",
       "      <th>9</th>\n",
       "      <td>A1MC4E00RO5E9T</td>\n",
       "      <td>0000029831</td>\n",
       "      <td>1.0</td>\n",
       "      <td>1.000000</td>\n",
       "      <td>Benign</td>\n",
       "    </tr>\n",
       "    <tr>\n",
       "      <th>49</th>\n",
       "      <td>A2RAGC7VLO78QG</td>\n",
       "      <td>0000031887</td>\n",
       "      <td>0.5</td>\n",
       "      <td>1.000000</td>\n",
       "      <td>Benign</td>\n",
       "    </tr>\n",
       "    <tr>\n",
       "      <th>52</th>\n",
       "      <td>A12OFS8WQP86O5</td>\n",
       "      <td>0000031887</td>\n",
       "      <td>1.0</td>\n",
       "      <td>0.869565</td>\n",
       "      <td>Benign</td>\n",
       "    </tr>\n",
       "    <tr>\n",
       "      <th>...</th>\n",
       "      <td>...</td>\n",
       "      <td>...</td>\n",
       "      <td>...</td>\n",
       "      <td>...</td>\n",
       "      <td>...</td>\n",
       "    </tr>\n",
       "    <tr>\n",
       "      <th>41132360</th>\n",
       "      <td>A32PHKD604WRG7</td>\n",
       "      <td>B00LTFG8EC</td>\n",
       "      <td>0.0</td>\n",
       "      <td>0.000000</td>\n",
       "      <td>Fraudulent</td>\n",
       "    </tr>\n",
       "    <tr>\n",
       "      <th>41132943</th>\n",
       "      <td>A1KBQ2GO5TN1VH</td>\n",
       "      <td>B00LUXND82</td>\n",
       "      <td>-1.0</td>\n",
       "      <td>0.000000</td>\n",
       "      <td>Fraudulent</td>\n",
       "    </tr>\n",
       "    <tr>\n",
       "      <th>41133093</th>\n",
       "      <td>A1PQH8Z7XBRGD8</td>\n",
       "      <td>B00LVEZYOQ</td>\n",
       "      <td>-1.0</td>\n",
       "      <td>0.000000</td>\n",
       "      <td>Fraudulent</td>\n",
       "    </tr>\n",
       "    <tr>\n",
       "      <th>41133297</th>\n",
       "      <td>A08001923S5BQH48HJ5FF</td>\n",
       "      <td>B00LWRN8SQ</td>\n",
       "      <td>1.0</td>\n",
       "      <td>0.000000</td>\n",
       "      <td>Fraudulent</td>\n",
       "    </tr>\n",
       "    <tr>\n",
       "      <th>41135687</th>\n",
       "      <td>A8DH3X2WRD3UO</td>\n",
       "      <td>BT00DDVMVQ</td>\n",
       "      <td>0.5</td>\n",
       "      <td>0.000000</td>\n",
       "      <td>Fraudulent</td>\n",
       "    </tr>\n",
       "  </tbody>\n",
       "</table>\n",
       "<p>7107248 rows × 5 columns</p>\n",
       "</div>"
      ],
      "text/plain": [
       "                     reviewerID        asin  rating  helpfulness       label\n",
       "6                A14A5Q8VJK5NLR  0000029831     0.5     1.000000      Benign\n",
       "7                A3W2PX96K1BA3M  0000029831     1.0     1.000000      Benign\n",
       "9                A1MC4E00RO5E9T  0000029831     1.0     1.000000      Benign\n",
       "49               A2RAGC7VLO78QG  0000031887     0.5     1.000000      Benign\n",
       "52               A12OFS8WQP86O5  0000031887     1.0     0.869565      Benign\n",
       "...                         ...         ...     ...          ...         ...\n",
       "41132360         A32PHKD604WRG7  B00LTFG8EC     0.0     0.000000  Fraudulent\n",
       "41132943         A1KBQ2GO5TN1VH  B00LUXND82    -1.0     0.000000  Fraudulent\n",
       "41133093         A1PQH8Z7XBRGD8  B00LVEZYOQ    -1.0     0.000000  Fraudulent\n",
       "41133297  A08001923S5BQH48HJ5FF  B00LWRN8SQ     1.0     0.000000  Fraudulent\n",
       "41135687          A8DH3X2WRD3UO  BT00DDVMVQ     0.5     0.000000  Fraudulent\n",
       "\n",
       "[7107248 rows x 5 columns]"
      ]
     },
     "execution_count": 6,
     "metadata": {},
     "output_type": "execute_result"
    }
   ],
   "source": [
    "df_benign = df[df.reviewerID.isin(set(benign.index))].copy()\n",
    "df_benign['label'] = 'Benign'\n",
    "df_fra = df[df.reviewerID.isin(set(fraudulent.index))].copy()\n",
    "df_fra['label'] = 'Fraudulent'\n",
    "df = pd.concat([df_benign, df_fra])\n",
    "df"
   ]
  },
  {
   "cell_type": "markdown",
   "id": "4cb003da",
   "metadata": {},
   "source": [
    "Check the number of reviews from benign and fraudulent users."
   ]
  },
  {
   "cell_type": "code",
   "execution_count": null,
   "id": "851be3cf",
   "metadata": {},
   "outputs": [],
   "source": [
    "counts = Counter(df.label)\n",
    "print(f'Reviews from benign users: {counts[\"Benign\"]}')\n",
    "print(f'Reviews from fraudulent users: {counts[\"Fraudulent\"]}')"
   ]
  },
  {
   "cell_type": "markdown",
   "id": "30714b84",
   "metadata": {},
   "source": [
    "Generate k-core dataset"
   ]
  },
  {
   "cell_type": "code",
   "execution_count": 7,
   "id": "e8176437",
   "metadata": {},
   "outputs": [],
   "source": [
    "def generate_kcore(df, k):\n",
    "    # Repeatly remove the users with less than k reviews, \n",
    "    # then remove the items with less than k reviews until\n",
    "    # no one is removed.\n",
    "    diff = 1\n",
    "    while diff:\n",
    "        cache = len(df)\n",
    "        counts = df.groupby('reviewerID').asin.count()\n",
    "        counts = counts[counts >= k]\n",
    "        df = df[df.reviewerID.isin(set(counts.index))]\n",
    "        counts = df.groupby('asin').reviewerID.count()\n",
    "        counts = counts[counts >= k]\n",
    "        df = df[df.asin.isin(set(counts.index))]\n",
    "        diff = cache - len(df)\n",
    "    return df.copy()"
   ]
  },
  {
   "cell_type": "code",
   "execution_count": 9,
   "id": "45be380a",
   "metadata": {},
   "outputs": [
    {
     "data": {
      "text/plain": [
       "{'train':               reviewerID        asin  rating  helpfulness       label\n",
       " 26652243  A27KQ8MMLNFD1B  B003Y5H5H4     0.0     1.000000      Benign\n",
       " 18349343   ALHKJO0ZB0WXV  B000RP4LDU     1.0     1.000000      Benign\n",
       " 7907781    AMUNMW13QBFVS  1463539657     0.5     1.000000      Benign\n",
       " 41075694  A273VM3VWW4KNW  B00KNQLU14     1.0     1.000000      Benign\n",
       " 41071413   A3KYT0XEFRZ71  B00KLPW3K4     0.5     1.000000      Benign\n",
       " ...                  ...         ...     ...          ...         ...\n",
       " 16839414  A2LXC1T8XS23JY  B000HGKF34    -1.0     0.000000  Fraudulent\n",
       " 41081538  A3L4FSPEGNMP3B  B00KPVQ6E8     1.0     1.000000      Benign\n",
       " 40124674   AGSVJM3JA24FV  B00FZU1UL8     1.0     1.000000      Benign\n",
       " 24228014   A7W97TBAJSXB5  B002UUT39M     0.5     1.000000      Benign\n",
       " 8649108    A3JQCC0ZKYIBM  1491221542     1.0     0.833333      Benign\n",
       " \n",
       " [888322 rows x 5 columns],\n",
       " 'val':               reviewerID        asin  rating  helpfulness   label\n",
       " 40050488  A2QQDV7Y545VZ3  B00FQQ1A8Y     1.0     1.000000  Benign\n",
       " 5390148   A1X5FYDL8SHIO9  0786853174     0.5     1.000000  Benign\n",
       " 37042030   ASHX33A1334SS  B00ALJOKPG     0.5     1.000000  Benign\n",
       " 12027665  A1MDAPKTOTWIKC  B00005219A     0.5     1.000000  Benign\n",
       " 11765309  A31RFO77JBO2IK  B00004R9VV     1.0     1.000000  Benign\n",
       " ...                  ...         ...     ...          ...     ...\n",
       " 15622353  A204RP75MC91RN  B000BUW8WM     1.0     0.833333  Benign\n",
       " 8737287    AC254KPZVKWYD  1493626949     0.0     0.000000  Benign\n",
       " 23991402   AMSALM0GG880Q  B002R56C4O     1.0     1.000000  Benign\n",
       " 12731357  A1CXA2EHSMHV6B  B00006IUWM     1.0     1.000000  Benign\n",
       " 12569143  A2AOZQ3WTNVVOK  B000066HAS     0.5     0.428571  Benign\n",
       " \n",
       " [419235 rows x 5 columns],\n",
       " 'test':               reviewerID        asin  rating  helpfulness   label\n",
       " 4822782   A1HDO4B1UWRX0D  0757303234     1.0     0.777778  Benign\n",
       " 2420316   A2X2AFV3QC63AL  0373777612     1.0     1.000000  Benign\n",
       " 14660562  A3PGGPL7FM9F81  B0007D4MV8     0.5     1.000000  Benign\n",
       " 8148741   A3MG89ICK0CKK8  147675652X     1.0     1.000000  Benign\n",
       " 38198516  A1NYO8MD5EI9X8  B00C17RE3G     1.0     0.913043  Benign\n",
       " ...                  ...         ...     ...          ...     ...\n",
       " 21552468  A2EYW8YJTOTAGQ  B001IV5ZHS     1.0     1.000000  Benign\n",
       " 8562943   A3S0YO9GR2DTD2  1484884957     1.0     1.000000  Benign\n",
       " 8224792   A1ALJ68ZGUAZB9  1477817204     1.0     1.000000  Benign\n",
       " 33364977  A175D4TARP540W  B007LCPNSO     0.5     1.000000  Benign\n",
       " 20549513  A374ROQPD6L3J3  B001AVREHA     1.0     0.000000  Benign\n",
       " \n",
       " [422208 rows x 5 columns],\n",
       " 'all':               reviewerID        asin  rating  helpfulness   label\n",
       " 26652243  A27KQ8MMLNFD1B  B003Y5H5H4     0.0     1.000000  Benign\n",
       " 18349343   ALHKJO0ZB0WXV  B000RP4LDU     1.0     1.000000  Benign\n",
       " 7907781    AMUNMW13QBFVS  1463539657     0.5     1.000000  Benign\n",
       " 41075694  A273VM3VWW4KNW  B00KNQLU14     1.0     1.000000  Benign\n",
       " 16806270  A33TRNCQK4IUO7  B000HCPSR6     1.0     1.000000  Benign\n",
       " ...                  ...         ...     ...          ...     ...\n",
       " 32321250  A1IPQ7J364RU4M  B006OQ4316     1.0     1.000000  Benign\n",
       " 18219223  A3MRHSJ3AX9GUT  B000QSOP0M     0.5     1.000000  Benign\n",
       " 16716832   A26VFJKQPL67F  B000H0RZD8     1.0     1.000000  Benign\n",
       " 20549513  A374ROQPD6L3J3  B001AVREHA     1.0     0.000000  Benign\n",
       " 23673697  A2PJUHNKHBDY27  B002LVU4SE     1.0     0.888889  Benign\n",
       " \n",
       " [5164530 rows x 5 columns]}"
      ]
     },
     "execution_count": 9,
     "metadata": {},
     "output_type": "execute_result"
    }
   ],
   "source": [
    "k = 3\n",
    "split_rate = (0.4, 0.3, 0.3)\n",
    "output_base = f'{folder}/processed_{k}-core_80_20'\n",
    "\n",
    "# perform a random shuffle\n",
    "np.random.seed(3407)\n",
    "df = df.iloc[np.random.permutation(len(df))]\n",
    "\n",
    "# split\n",
    "dfs = {}\n",
    "n_train = int(len(df) * split_rate[0])\n",
    "n_val = int(len(df) * split_rate[1])\n",
    "dfs['train'] = df.iloc[:n_train]\n",
    "dfs['val'] = df.iloc[n_train:n_train+n_val]\n",
    "dfs['test'] = df.iloc[n_train+n_val:]\n",
    "dfs['all'] = df\n",
    "\n",
    "for curr in ('train', 'val', 'test', 'all'):\n",
    "    dfs[curr] = generate_kcore(dfs[curr], k)\n",
    "    df_out = dfs[curr][['reviewerID', 'asin', 'rating']]\n",
    "    df_out.to_csv(f'{output_base}_{curr}.csv', index=False)\n",
    "    df_out\n",
    "\n",
    "dfs"
   ]
  },
  {
   "cell_type": "markdown",
   "id": "6ae9ba84",
   "metadata": {},
   "source": [
    "Check the number of reviews from benign and fraudulent users again"
   ]
  },
  {
   "cell_type": "code",
   "execution_count": 12,
   "id": "b9b25ac3",
   "metadata": {},
   "outputs": [
    {
     "name": "stdout",
     "output_type": "stream",
     "text": [
      "train\n",
      "Benign users: 131915\n",
      "Fraudulent users: 2012\n",
      "Reviews from benign users: 880567\n",
      "Reviews from fraudulent users: 7755\n",
      "val\n",
      "Benign users: 62719\n",
      "Fraudulent users: 683\n",
      "Reviews from benign users: 416444\n",
      "Reviews from fraudulent users: 2791\n",
      "test\n",
      "Benign users: 63317\n",
      "Fraudulent users: 684\n",
      "Reviews from benign users: 419477\n",
      "Reviews from fraudulent users: 2731\n",
      "all\n",
      "Benign users: 601030\n",
      "Fraudulent users: 22752\n",
      "Reviews from benign users: 5071608\n",
      "Reviews from fraudulent users: 92922\n"
     ]
    }
   ],
   "source": [
    "benign = {}\n",
    "fraudulent = {}\n",
    "for t in ['train', 'val', 'test', 'all']:\n",
    "    df = dfs[t]\n",
    "    benign[t] = set(df[df.label == 'Benign'].reviewerID.unique())\n",
    "    fraudulent[t] = set(df[df.label == 'Fraudulent'].reviewerID.unique())\n",
    "    print(t)\n",
    "    print(f'Benign users: {len(benign[t])}')\n",
    "    print(f'Fraudulent users: {len(fraudulent[t])}')\n",
    "    counts = Counter(df.label)\n",
    "    print(f'Reviews from benign users: {counts[\"Benign\"]}')\n",
    "    print(f'Reviews from fraudulent users: {counts[\"Fraudulent\"]}')"
   ]
  },
  {
   "cell_type": "markdown",
   "id": "2c35a4fe",
   "metadata": {},
   "source": [
    "Output user labels"
   ]
  },
  {
   "cell_type": "code",
   "execution_count": null,
   "id": "42631388",
   "metadata": {},
   "outputs": [],
   "source": [
    "userfile_base = f'{folder}/user_label'\n",
    "for t in ['train', 'val', 'test', 'all']:\n",
    "    with open(userfile_base + f'_{t}.csv', 'w') as fw:\n",
    "        fw.write('reviewerID,fairness,label\\n')\n",
    "        for u in benign[t]:\n",
    "            fw.write(f'{u},{users[u]},Benign\\n')\n",
    "        for u in fraudulent[t]:\n",
    "            fw.write(f'{u},{users[u]},Fraudulent\\n')"
   ]
  },
  {
   "cell_type": "markdown",
   "id": "e2baa593",
   "metadata": {},
   "source": [
    "## 2. Generate toy datasets for coding\n",
    "Here, toy datasets are generated to speed up model design and debugging."
   ]
  },
  {
   "cell_type": "code",
   "execution_count": 14,
   "id": "2bc0d98d",
   "metadata": {},
   "outputs": [],
   "source": [
    "# select users\n",
    "n_benign = 50000\n",
    "n_fraudulent = 5000\n",
    "\n",
    "\n",
    "# output names\n",
    "toy_out_base = f'{folder}/toy_{k}-core_80_20'\n",
    "\n",
    "# generate toy train val and test data\n",
    "toys = {}\n",
    "curr_benign = 0\n",
    "curr_fraudulent = 0\n",
    "for t in ['train', 'val', 'test']:\n",
    "    toy_users = set(sorted(list(benign['all']))[curr_benign:curr_benign+n_benign] + \\\n",
    "                        sorted(list(fraudulent['all']))[curr_fraudulent:curr_fraudulent+n_fraudulent])\n",
    "    curr_benign += n_benign\n",
    "    curr_fraudulent += n_fraudulent\n",
    "    df = dfs['all']\n",
    "    toys[t] = df[df.reviewerID.isin(toy_users)].copy()\n",
    "    toys[t] = generate_kcore(toys[t], k)\n",
    "    df_toy_out = toys[t][['reviewerID', 'asin', 'rating']]\n",
    "    df_toy_out.to_csv(f'{toy_out_base}_{t}.csv', index=False)\n",
    "    toys[t]"
   ]
  },
  {
   "cell_type": "markdown",
   "id": "1f603fda",
   "metadata": {},
   "source": [
    "Statistics for toy dataset."
   ]
  },
  {
   "cell_type": "code",
   "execution_count": 15,
   "id": "9a414f86",
   "metadata": {},
   "outputs": [
    {
     "name": "stdout",
     "output_type": "stream",
     "text": [
      "train\n",
      "Benign users: 11908\n",
      "Fraudulent users: 826\n",
      "Reviews from benign users: 79687\n",
      "Reviews from fraudulent users: 3146\n",
      "val\n",
      "Benign users: 12674\n",
      "Fraudulent users: 897\n",
      "Reviews from benign users: 90526\n",
      "Reviews from fraudulent users: 3442\n",
      "test\n",
      "Benign users: 11937\n",
      "Fraudulent users: 833\n",
      "Reviews from benign users: 78357\n",
      "Reviews from fraudulent users: 3161\n"
     ]
    }
   ],
   "source": [
    "toy_benign = {}\n",
    "toy_fraudulent = {}\n",
    "for t in ['train', 'val', 'test']:\n",
    "    toy_benign[t] = set(toys[t][toys[t].label == 'Benign'].reviewerID.unique())\n",
    "    toy_fraudulent[t] = set(toys[t][toys[t].label == 'Fraudulent'].reviewerID.unique())\n",
    "    print(t)\n",
    "    print(f'Benign users: {len(toy_benign[t])}')\n",
    "    print(f'Fraudulent users: {len(toy_fraudulent[t])}')\n",
    "    counts = Counter(toys[t].label)\n",
    "    print(f'Reviews from benign users: {counts[\"Benign\"]}')\n",
    "    print(f'Reviews from fraudulent users: {counts[\"Fraudulent\"]}')"
   ]
  },
  {
   "cell_type": "markdown",
   "id": "b126afe6",
   "metadata": {},
   "source": [
    "Output user labels"
   ]
  },
  {
   "cell_type": "code",
   "execution_count": 16,
   "id": "92f3e641",
   "metadata": {},
   "outputs": [],
   "source": [
    "toy_user_base = f'{folder}/toy_label'\n",
    "for t in ['train', 'val', 'test']:\n",
    "    with open(toy_user_base + f'_{t}.csv', 'w') as fw:\n",
    "        fw.write('reviewerID,fairness,label\\n')\n",
    "        for u in benign[t]:\n",
    "            fw.write(f'{u},{users[u]},Benign\\n')\n",
    "        for u in fraudulent[t]:\n",
    "            fw.write(f'{u},{users[u]},Fraudulent\\n')"
   ]
  },
  {
   "cell_type": "markdown",
   "id": "54c00632",
   "metadata": {},
   "source": [
    "## 3. Generate dataset with text reviews\n",
    "\n",
    "Here, we generate the dataset with text reviews of same review, which can help us to incorporate text embeddings."
   ]
  },
  {
   "cell_type": "code",
   "execution_count": 17,
   "id": "1e969110",
   "metadata": {},
   "outputs": [
    {
     "name": "stdout",
     "output_type": "stream",
     "text": [
      "5000000 reviews processed!\n",
      "10000000 reviews processed!\n",
      "15000000 reviews processed!\n",
      "20000000 reviews processed!\n",
      "25000000 reviews processed!\n",
      "30000000 reviews processed!\n",
      "35000000 reviews processed!\n",
      "40000000 reviews processed!\n"
     ]
    }
   ],
   "source": [
    "# output name\n",
    "output_base = f'{folder}/processed_{k}-core_80_20'\n",
    "output_toy_base = f'{folder}/toy_{k}-core_80_20'\n",
    "\n",
    "# Only output the reviews from selected entries for processed dataset\n",
    "products = {}\n",
    "reviewers = {}\n",
    "fws = {}\n",
    "for t in ['train', 'val', 'test', 'all']:\n",
    "    products[t] = set(dfs[t].asin.unique())\n",
    "    reviewers[t] = set(dfs[t].reviewerID.unique())\n",
    "    fws[t] = open(f'{output_base}_{t}_with_text.csv', 'w')\n",
    "    fws[t].write('reviewerID,asin,rating,reviewText\\n')\n",
    "    \n",
    "# toy dataset\n",
    "toy_products = {}\n",
    "toy_reviewers = {}\n",
    "toy_fws = {}\n",
    "for t in ['train', 'val', 'test']:\n",
    "    toy_products[t] = set(toys[t].asin.unique())\n",
    "    toy_reviewers[t] = set(toys[t].reviewerID.unique())\n",
    "    toy_fws[t] = open(f'{output_toy_base}_{t}_with_text.csv', 'w')\n",
    "    toy_fws[t].write('reviewerID,asin,rating,reviewText\\n')\n",
    "\n",
    "# check all reviews\n",
    "i=0\n",
    "for d in parse(filename):\n",
    "    i += 1\n",
    "    # report every 5m\n",
    "    if not i % 5000000:\n",
    "        print(f'{i} reviews processed!')\n",
    "    if not d['helpful'][1]:\n",
    "        continue\n",
    "    for t in ['train', 'val', 'test', 'all']:\n",
    "        if d['reviewerID'] in reviewers[t] and d['asin'] in products[t]:\n",
    "            fws[t].write(','.join([d['reviewerID'], d['asin'], str((d['overall']-3)/2), \\\n",
    "                           d['reviewText'].replace('\\n',' ').replace(',', ' ')]) + '\\n')\n",
    "    for t in ['train', 'val', 'test']:\n",
    "        if d['reviewerID'] in toy_reviewers[t] and d['asin'] in toy_products[t]:\n",
    "            toy_fws[t].write(','.join([d['reviewerID'], d['asin'], str((d['overall']-3)/2), \\\n",
    "                           d['reviewText'].replace('\\n',' ').replace(',', ' ')]) + '\\n')\n",
    "\n",
    "# close files\n",
    "for fw in fws.values():\n",
    "    fw.close()\n",
    "for fw in toy_fws.values():\n",
    "    fw.close()"
   ]
  },
  {
   "cell_type": "code",
   "execution_count": null,
   "id": "5b8f2a79",
   "metadata": {},
   "outputs": [],
   "source": []
  }
 ],
 "metadata": {
  "kernelspec": {
   "display_name": "Python 3 (ipykernel)",
   "language": "python",
   "name": "python3"
  },
  "language_info": {
   "codemirror_mode": {
    "name": "ipython",
    "version": 3
   },
   "file_extension": ".py",
   "mimetype": "text/x-python",
   "name": "python",
   "nbconvert_exporter": "python",
   "pygments_lexer": "ipython3",
   "version": "3.9.9"
  }
 },
 "nbformat": 4,
 "nbformat_minor": 5
}
