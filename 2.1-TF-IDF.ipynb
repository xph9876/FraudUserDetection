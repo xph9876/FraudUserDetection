{
 "cells": [
  {
   "cell_type": "code",
   "execution_count": 6,
   "metadata": {},
   "outputs": [],
   "source": [
    "import pandas as pd\n",
    "from sklearn.feature_extraction.text import TfidfVectorizer\n",
    "\n",
    "input_path = 'dataset/toy_3-core_80_20_with_text.csv'\n",
    "output_path = 'dataset/toy_embdded_review.csv'\n",
    "\n",
    "def load_text(path):\n",
    "    data = []\n",
    "    with open(path) as f:\n",
    "        lines = f.readlines()\n",
    "        for i in range(1, len(lines)):\n",
    "             record = {}\n",
    "             line = lines[i].split(',')\n",
    "             record['reviewerID'] = line[0]\n",
    "             record['asin'] = line[1]\n",
    "             record['rating'] = line[2]\n",
    "             record['review'] = \"\".join(line[3:])\n",
    "             data.append(record)\n",
    "    return data\n",
    "\n",
    "def get_pure_text(review):\n",
    "    return review['review']\n",
    "\n",
    "def get_review_info(review):\n",
    "    review = review.copy()\n",
    "    review.pop('review')\n",
    "    return review\n",
    "\n",
    "def TF_IDF_vectorization(input_path, output_path):\n",
    "    \n",
    "    reviews = load_text(input_path)\n",
    "    df_info = pd.DataFrame(list(map(get_review_info, reviews)))\n",
    "    pure_text = list(map(get_pure_text, reviews))\n",
    "    assert (df_info.shape[0] == len(pure_text))\n",
    "\n",
    "    vectorizer = TfidfVectorizer(max_features=20)\n",
    "    X = vectorizer.fit_transform(pure_text)\n",
    "\n",
    "    df_review = pd.DataFrame.sparse.from_spmatrix(X)\n",
    "    df = pd.concat([df_info, df_review], axis=1)\n",
    "    df.to_csv(output_path)"
   ]
  },
  {
   "cell_type": "code",
   "execution_count": null,
   "metadata": {},
   "outputs": [],
   "source": [
    "for t in ['train', 'val', 'test', 'all']:\n",
    "    input_path = 'dataset/processed_3-core_80_20_{t}_with_text.csv'\n",
    "    output_path = 'dataset/{t}_embdded_review.csv'\n",
    "    TF_IDF_vectorization(input_path, output_path)\n",
    "    print(f'{t} dataset processed')"
   ]
  }
 ],
 "metadata": {
  "interpreter": {
   "hash": "38cca0c38332a56087b24af0bc80247f4fced29cb4f7f437d91dc159adec9c4e"
  },
  "kernelspec": {
   "display_name": "Python 3.8.8",
   "language": "python",
   "name": "python3"
  },
  "language_info": {
   "codemirror_mode": {
    "name": "ipython",
    "version": 3
   },
   "file_extension": ".py",
   "mimetype": "text/x-python",
   "name": "python",
   "nbconvert_exporter": "python",
   "pygments_lexer": "ipython3",
   "version": "3.8.8"
  },
  "orig_nbformat": 4
 },
 "nbformat": 4,
 "nbformat_minor": 2
}
