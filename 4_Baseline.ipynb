{
  "nbformat": 4,
  "nbformat_minor": 0,
  "metadata": {
    "colab": {
      "name": "Baseline.ipynb",
      "provenance": [],
      "collapsed_sections": []
    },
    "kernelspec": {
      "name": "python3",
      "display_name": "Python 3"
    },
    "language_info": {
      "name": "python"
    }
  },
  "cells": [
    {
      "cell_type": "code",
      "execution_count": 61,
      "metadata": {
        "id": "Nmi9chq_jyN-",
        "colab": {
          "base_uri": "https://localhost:8080/"
        },
        "outputId": "9228cb76-560a-494b-c463-5ac03f869e70"
      },
      "outputs": [
        {
          "output_type": "stream",
          "name": "stdout",
          "text": [
            "623782\n",
            "              reviewerID         asin  rating\n",
            "0        uA27KQ8MMLNFD1B  pB003Y5H5H4     0.0\n",
            "1         uALHKJO0ZB0WXV  pB000RP4LDU     1.0\n",
            "2         uAMUNMW13QBFVS  p1463539657     0.5\n",
            "3        uA273VM3VWW4KNW  pB00KNQLU14     1.0\n",
            "4        uA33TRNCQK4IUO7  pB000HCPSR6     1.0\n",
            "...                  ...          ...     ...\n",
            "5164525  uA1IPQ7J364RU4M  pB006OQ4316     1.0\n",
            "5164526  uA3MRHSJ3AX9GUT  pB000QSOP0M     0.5\n",
            "5164527   uA26VFJKQPL67F  pB000H0RZD8     1.0\n",
            "5164528  uA374ROQPD6L3J3  pB001AVREHA     1.0\n",
            "5164529  uA2PJUHNKHBDY27  pB002LVU4SE     1.0\n",
            "\n",
            "[5164530 rows x 3 columns]\n",
            "Amazon Network has 1245270 nodes and 5164530 edges\n"
          ]
        }
      ],
      "source": [
        "import json\n",
        "import pandas as pd\n",
        "import os\n",
        "import networkx as nx\n",
        "import numpy as np\n",
        "import subprocess\n",
        "from collections import defaultdict\n",
        "from collections import Counter\n",
        "from sklearn.metrics import *\n",
        "from sklearn.model_selection import StratifiedKFold\n",
        "from sklearn.ensemble import RandomForestClassifier\n",
        "from sklearn.utils import shuffle\n",
        "\n",
        "# Hyperparameters\n",
        "alpha1 = 0\n",
        "alpha2 = 1\n",
        "beta1 = 1\n",
        "beta2 = 2\n",
        "gamma1 = 0\n",
        "gamma2 = 2\n",
        "gamma3 = 1\n",
        "\n",
        "max_epochs = 1000\n",
        "k = 3\n",
        "\n",
        "# Files\n",
        "ori_data = f'dataset/processed_{k}-core_80_20_all.csv'\n",
        "toy_data = f'dataset/toy_{k}-core_80_20.csv'\n",
        "ori_label_data = f'dataset/user_label_all.csv'\n",
        "toy_label_data = f'dataset/toy_user_label.csv'\n",
        "\n",
        "benign = []\n",
        "fraudulent = []\n",
        "total_users = 0\n",
        "\n",
        "with open(ori_label_data, 'r') as f:\n",
        "    f.readline()\n",
        "    for l in f:\n",
        "        total_users += 1\n",
        "        s = l.rstrip('\\n').split(',')\n",
        "        if s[2] == 'Benign':\n",
        "            benign.append(s[0])\n",
        "        else:\n",
        "            fraudulent.append(s[0])\n",
        "print(total_users)\n",
        "\n",
        "# Convert to networkx\n",
        "df = pd.read_csv(ori_data)\n",
        "df['reviewerID'] = 'u' + df['reviewerID'].astype(str)\n",
        "df['asin'] = 'p' + df['asin'].astype(str)\n",
        "X = df[['reviewerID', 'asin', 'rating']]\n",
        "print(X)\n",
        "G = nx.from_pandas_edgelist(X, source = 'reviewerID', target = 'asin', edge_attr=True, create_using=nx.DiGraph())\n",
        "\n",
        "nodes = G.nodes()\n",
        "edges = G.edges(data=True)\n",
        "print(f\"Amazon Network has {len(nodes)} nodes and {len(edges)} edges\")"
      ]
    },
    {
      "cell_type": "code",
      "source": [
        "user_names = [node for node in nodes if node.startswith('u')]\n",
        "product_names = [node for node in nodes if node.startswith('p')]\n",
        "num_users = len(user_names)\n",
        "num_products = len(product_names)\n",
        "user_map = dict(zip(user_names, range(len(user_names))))\n",
        "product_map = dict(zip(product_names, range(len(product_names))))\n",
        "\n",
        "# Give initial values to each node, product and edge\n",
        "for node in nodes:\n",
        "      if node.startswith(\"u\"):\n",
        "          G.nodes[node][\"fairness\"] = 1\n",
        "      else:\n",
        "          G.nodes[node][\"goodness\"] = 1\n",
        "\n",
        "for edge in edges:\n",
        "    G[edge[0]][edge[1]][\"fairness\"] = 1"
      ],
      "metadata": {
        "id": "n-TadIdZkTIh"
      },
      "execution_count": 62,
      "outputs": []
    },
    {
      "cell_type": "code",
      "source": [
        "# Update product goodness scores\n",
        "def Updating_goodness_of_product():\n",
        "    print('Updating goodness of product')\n",
        "\n",
        "    def calc_Gp(node):\n",
        "        inedges = G.in_edges(node, data=True)\n",
        "\n",
        "        ftotal = len(inedges)\n",
        "        gtotal = np.sum([edge[2][\"fairness\"] * edge[2][\"rating\"]\n",
        "                          for edge in inedges])\n",
        "\n",
        "        if ftotal > 0.0:\n",
        "            mean_rating_fairness = (\n",
        "                gtotal + beta1*median_gvals) / (ftotal + beta1)\n",
        "        else:\n",
        "            mean_rating_fairness = 0.0\n",
        "\n",
        "        mean_rating_fairness = np.clip(\n",
        "            mean_rating_fairness, -1, 1)\n",
        "\n",
        "        return mean_rating_fairness\n",
        "\n",
        "    # goodness of the curretn products\n",
        "    currentgvals = [G.nodes[node][\"goodness\"]\n",
        "                    for node in nodes if 'p' == node[0]]\n",
        "    # median\n",
        "    median_gvals = np.median(currentgvals)\n",
        "\n",
        "    dp = 0\n",
        "    for node in nodes:\n",
        "        if \"p\" not in node[0]:\n",
        "            continue\n",
        "\n",
        "        x = calc_Gp(node)\n",
        "        dp += abs(G.nodes[node][\"goodness\"] - x)\n",
        "        G.nodes[node][\"goodness\"] = x\n",
        "\n",
        "    return dp"
      ],
      "metadata": {
        "id": "m5DymYIokUFo"
      },
      "execution_count": 63,
      "outputs": []
    },
    {
      "cell_type": "code",
      "source": [
        "# Update rating fairness scores\n",
        "def Updating_fairness_of_ratings():\n",
        "    print(\"Updating fairness of ratings\")\n",
        "\n",
        "    def calc_FR(edge):\n",
        "        user_fairness = G.nodes[edge[0]][\"fairness\"]  # F(u)\n",
        "\n",
        "        rating_distance = 1 - \\\n",
        "            (abs(edge[2][\"rating\"] - G.nodes[edge[1]][\"goodness\"]) / 2.0)\n",
        "\n",
        "        x = (gamma1 * user_fairness + gamma2 *\n",
        "              rating_distance) / (gamma1 + gamma2)\n",
        "        x = np.clip(x, 0, 1)\n",
        "        return x\n",
        "\n",
        "    dr = 0\n",
        "\n",
        "    for edge in edges:\n",
        "        x = calc_FR(edge)\n",
        "        dr += abs(edge[2][\"fairness\"] - x)\n",
        "        G.adj[edge[0]][edge[1]][\"fairness\"] = x\n",
        "    return dr"
      ],
      "metadata": {
        "id": "bGKMSfmwkVlk"
      },
      "execution_count": 64,
      "outputs": []
    },
    {
      "cell_type": "code",
      "source": [
        "# Update user fairness scores\n",
        "def Updating_fairness_of_users():\n",
        "    print('updating fairness of users')\n",
        "\n",
        "    def calc_FU(node):\n",
        "        outedges = G.out_edges(node, data=True)\n",
        "        rating_fairness_sum = np.sum(\n",
        "            [edge[2][\"fairness\"] for edge in outedges])\n",
        "\n",
        "        x = (rating_fairness_sum + alpha1*median_fvals) / \\\n",
        "            (len(outedges) + alpha1)\n",
        "        x = np.clip(x, 0, 1)\n",
        "        return x\n",
        "\n",
        "    currentfvals = [G.nodes[node][\"fairness\"]\n",
        "                    for node in nodes if 'u' == node[0]]\n",
        "    # Alternatively, we can use mean here, intead of median\n",
        "    median_fvals = np.median(currentfvals)\n",
        "\n",
        "    du = 0\n",
        "\n",
        "    for node in nodes:\n",
        "        if \"u\" not in node[0]:\n",
        "            continue\n",
        "\n",
        "        x = calc_FU(node)\n",
        "        du += abs(G.nodes[node][\"fairness\"] - x)\n",
        "        G.nodes[node][\"fairness\"] = x\n",
        "\n",
        "    return du"
      ],
      "metadata": {
        "id": "LMVrBlMLkXY5"
      },
      "execution_count": 65,
      "outputs": []
    },
    {
      "cell_type": "code",
      "source": [
        "# REV2 algorithm\n",
        "# Iterate to update parameters\n",
        "du = 0\n",
        "dp = 0\n",
        "dr = 0\n",
        "\n",
        "for epoch in range(max_epochs):\n",
        "    print('-----------------')\n",
        "    print(\"Epoch number %d with du = %f, dp = %f, dr = %f, for (%d,%d,%d,%d,%d,%d,%d)\" % (\n",
        "        epoch, du, dp, dr, alpha1, alpha2, beta1, beta2, gamma1, gamma2, gamma3))\n",
        "    if np.isnan(du) or np.isnan(dp) or np.isnan(dr):\n",
        "        break\n",
        "\n",
        "    dp = Updating_goodness_of_product()\n",
        "    dr = Updating_fairness_of_ratings()\n",
        "    du = Updating_fairness_of_users()\n",
        "\n",
        "    if du < 0.01 and dp < 0.01 and dr < 0.01:\n",
        "        break"
      ],
      "metadata": {
        "id": "C5bQUDhTkZCI",
        "colab": {
          "base_uri": "https://localhost:8080/"
        },
        "outputId": "f5850ee9-f8ad-4ac1-8ecd-008524d70696"
      },
      "execution_count": 66,
      "outputs": [
        {
          "output_type": "stream",
          "name": "stdout",
          "text": [
            "-----------------\n",
            "Epoch number 0 with du = 0.000000, dp = 0.000000, dr = 0.000000, for (0,1,1,2,0,2,1)\n",
            "Updating goodness of product\n",
            "Updating fairness of ratings\n",
            "updating fairness of users\n",
            "-----------------\n",
            "Epoch number 1 with du = 118936.358739, dp = 194520.614317, dr = 913665.292006, for (0,1,1,2,0,2,1)\n",
            "Updating goodness of product\n",
            "Updating fairness of ratings\n",
            "updating fairness of users\n",
            "-----------------\n",
            "Epoch number 2 with du = 11006.627104, dp = 45560.809249, dr = 166501.174439, for (0,1,1,2,0,2,1)\n",
            "Updating goodness of product\n",
            "Updating fairness of ratings\n",
            "updating fairness of users\n",
            "-----------------\n",
            "Epoch number 3 with du = 4999.126776, dp = 21095.672607, dr = 69745.858029, for (0,1,1,2,0,2,1)\n",
            "Updating goodness of product\n",
            "Updating fairness of ratings\n",
            "updating fairness of users\n",
            "-----------------\n",
            "Epoch number 4 with du = 2010.248962, dp = 8252.156341, dr = 26626.300903, for (0,1,1,2,0,2,1)\n",
            "Updating goodness of product\n",
            "Updating fairness of ratings\n",
            "updating fairness of users\n",
            "-----------------\n",
            "Epoch number 5 with du = 794.942651, dp = 3169.359006, dr = 10083.073751, for (0,1,1,2,0,2,1)\n",
            "Updating goodness of product\n",
            "Updating fairness of ratings\n",
            "updating fairness of users\n",
            "-----------------\n",
            "Epoch number 6 with du = 354.688496, dp = 1458.152340, dr = 4447.094860, for (0,1,1,2,0,2,1)\n",
            "Updating goodness of product\n",
            "Updating fairness of ratings\n",
            "updating fairness of users\n",
            "-----------------\n",
            "Epoch number 7 with du = 198.807213, dp = 890.969952, dr = 2544.909430, for (0,1,1,2,0,2,1)\n",
            "Updating goodness of product\n",
            "Updating fairness of ratings\n",
            "updating fairness of users\n",
            "-----------------\n",
            "Epoch number 8 with du = 96.571362, dp = 430.398472, dr = 1212.417113, for (0,1,1,2,0,2,1)\n",
            "Updating goodness of product\n",
            "Updating fairness of ratings\n",
            "updating fairness of users\n",
            "-----------------\n",
            "Epoch number 9 with du = 40.145440, dp = 170.079234, dr = 483.738825, for (0,1,1,2,0,2,1)\n",
            "Updating goodness of product\n",
            "Updating fairness of ratings\n",
            "updating fairness of users\n",
            "-----------------\n",
            "Epoch number 10 with du = 16.837376, dp = 69.283843, dr = 197.786878, for (0,1,1,2,0,2,1)\n",
            "Updating goodness of product\n",
            "Updating fairness of ratings\n",
            "updating fairness of users\n",
            "-----------------\n",
            "Epoch number 11 with du = 7.078773, dp = 28.412871, dr = 81.420636, for (0,1,1,2,0,2,1)\n",
            "Updating goodness of product\n",
            "Updating fairness of ratings\n",
            "updating fairness of users\n",
            "-----------------\n",
            "Epoch number 12 with du = 2.976355, dp = 11.681227, dr = 33.624875, for (0,1,1,2,0,2,1)\n",
            "Updating goodness of product\n",
            "Updating fairness of ratings\n",
            "updating fairness of users\n",
            "-----------------\n",
            "Epoch number 13 with du = 1.250962, dp = 4.803148, dr = 13.905269, for (0,1,1,2,0,2,1)\n",
            "Updating goodness of product\n",
            "Updating fairness of ratings\n",
            "updating fairness of users\n",
            "-----------------\n",
            "Epoch number 14 with du = 0.525557, dp = 1.974372, dr = 5.755883, for (0,1,1,2,0,2,1)\n",
            "Updating goodness of product\n",
            "Updating fairness of ratings\n",
            "updating fairness of users\n",
            "-----------------\n",
            "Epoch number 15 with du = 0.220766, dp = 0.811181, dr = 2.384574, for (0,1,1,2,0,2,1)\n",
            "Updating goodness of product\n",
            "Updating fairness of ratings\n",
            "updating fairness of users\n",
            "-----------------\n",
            "Epoch number 16 with du = 0.092753, dp = 0.333170, dr = 0.988890, for (0,1,1,2,0,2,1)\n",
            "Updating goodness of product\n",
            "Updating fairness of ratings\n",
            "updating fairness of users\n",
            "-----------------\n",
            "Epoch number 17 with du = 0.038991, dp = 0.136824, dr = 0.410600, for (0,1,1,2,0,2,1)\n",
            "Updating goodness of product\n",
            "Updating fairness of ratings\n",
            "updating fairness of users\n",
            "-----------------\n",
            "Epoch number 18 with du = 0.016405, dp = 0.056199, dr = 0.170743, for (0,1,1,2,0,2,1)\n",
            "Updating goodness of product\n",
            "Updating fairness of ratings\n",
            "updating fairness of users\n",
            "-----------------\n",
            "Epoch number 19 with du = 0.006911, dp = 0.023093, dr = 0.071128, for (0,1,1,2,0,2,1)\n",
            "Updating goodness of product\n",
            "Updating fairness of ratings\n",
            "updating fairness of users\n",
            "-----------------\n",
            "Epoch number 20 with du = 0.002916, dp = 0.009496, dr = 0.029691, for (0,1,1,2,0,2,1)\n",
            "Updating goodness of product\n",
            "Updating fairness of ratings\n",
            "updating fairness of users\n",
            "-----------------\n",
            "Epoch number 21 with du = 0.001233, dp = 0.003909, dr = 0.012423, for (0,1,1,2,0,2,1)\n",
            "Updating goodness of product\n",
            "Updating fairness of ratings\n",
            "updating fairness of users\n"
          ]
        }
      ]
    },
    {
      "cell_type": "code",
      "source": [
        "# Make a directory to save results\n",
        "Path = './rev2_results/'\n",
        "if not os.path.exists(Path):\n",
        "    os.mkdir(Path)\n",
        "os.listdir('./')"
      ],
      "metadata": {
        "id": "n5RCAVfUkcdn",
        "colab": {
          "base_uri": "https://localhost:8080/"
        },
        "outputId": "71f391d0-5765-474e-a0d4-50cf64ccdd78"
      },
      "execution_count": 67,
      "outputs": [
        {
          "output_type": "execute_result",
          "data": {
            "text/plain": [
              "['kcore_5.json.gz',\n",
              " '3_Proposed_Methods.ipynb',\n",
              " '2_Review_Embedding.ipynb',\n",
              " 'dataset',\n",
              " '1_Dataset_preprocessing_1.ipynb',\n",
              " '1_Dataset_preprocessing.ipynb',\n",
              " 'Baseline.ipynb',\n",
              " 'rev2_results']"
            ]
          },
          "metadata": {},
          "execution_count": 67
        }
      ]
    },
    {
      "cell_type": "code",
      "source": [
        "# Make tables to see the score of each user and product\n",
        "currentfvals = []\n",
        "for node in nodes:\n",
        "  if \"u\" not in node[0]:\n",
        "    continue\n",
        "  currentfvals.append(G.nodes[node][\"fairness\"])\n",
        "median_fvals = np.median(currentfvals)\n",
        "\n",
        "user_fairness_df = pd.DataFrame([(x[0], x[1]['fairness']) for x in G.nodes(\n",
        "                data=True) if x[0].startswith('u')], columns=['source', 'fairness'])\n",
        "product_goodness_df = pd.DataFrame([(x[0], x[1]['goodness']) for x in G.nodes(data=True) if x[0].startswith('p')],\n",
        "                    columns=['target', 'goodness'])\n",
        "edge_fairness_df = nx.to_pandas_edgelist(G)"
      ],
      "metadata": {
        "id": "e1-qWIAHkeGh"
      },
      "execution_count": 68,
      "outputs": []
    },
    {
      "cell_type": "code",
      "source": [
        "all_node_vals = []\n",
        "fair_node_vals = []\n",
        "\n",
        "for node in nodes:\n",
        "    if \"u\" not in node[0]:\n",
        "        continue\n",
        "    f = G.nodes[node][\"fairness\"]\n",
        "    all_node_vals.append(\n",
        "        [node, (f - median_fvals) * np.log(G.out_degree(node) + 1), f, G.out_degree(node)])\n",
        "    fair_node_vals.append(\n",
        "        [node[1:], (f - median_fvals) * np.log(G.out_degree(node) + 1)])\n",
        "\n",
        "all_node_vals_sorted = sorted(all_node_vals, key = lambda x: (float(x[1]), float(x[2]), -1 * float(x[3])), reverse=True)\n",
        "fair_node_vals_sorted = sorted(fair_node_vals, key = lambda x: (float(x[1])), reverse=True)"
      ],
      "metadata": {
        "id": "OGwx1Gkukf-V"
      },
      "execution_count": 69,
      "outputs": []
    },
    {
      "cell_type": "code",
      "source": [
        "# Write the score results to two separate csv files\n",
        "fw = open(Path + f\"fng-sorted-users-{alpha1}-{alpha2}-{beta1}-{beta2}-{gamma1}-{gamma2}-{gamma3}.csv\", \"w\")\n",
        "\n",
        "for i, sl in enumerate(all_node_vals_sorted):\n",
        "    # if sl[3] in badusers or sl[3] in goodusers:  # dont store users for which we dont have ground truth\n",
        "    fw.write(f\"{str(sl[0])},{str(sl[1])},{str(sl[2])},{str(sl[3])}\\n\")\n",
        "fw.close()\n",
        "\n",
        "fw = open(Path + f\"only_fairness-sorted-users-{alpha1}-{alpha2}-{beta1}-{beta2}-{gamma1}-{gamma2}-{gamma3}.csv\", \"w\")\n",
        "\n",
        "for i, sl in enumerate(fair_node_vals_sorted):\n",
        "    # if sl[3] in badusers or sl[3] in goodusers:  # dont store users for which we dont have ground truth\n",
        "    fw.write(f\"{str(sl[0])},{str(sl[1])}\\n\")\n",
        "fw.close()\n",
        "\n",
        "os.listdir('./rev2_results/')\n",
        "print(\"Number of ground truth bad users = %d, good users = %d\" % (len(fraudulent), len(benign)))"
      ],
      "metadata": {
        "id": "cZPWtf3lkh9u",
        "colab": {
          "base_uri": "https://localhost:8080/"
        },
        "outputId": "18d4717b-7e5a-4d41-bc0a-8252706fbf23"
      },
      "execution_count": 70,
      "outputs": [
        {
          "output_type": "stream",
          "name": "stdout",
          "text": [
            "Number of ground truth bad users = 22752, good users = 601030\n"
          ]
        }
      ]
    },
    {
      "cell_type": "code",
      "source": [
        "# Calculate the average precision score for fraudulent and benign user prediction (Unsupervised)\n",
        "\n",
        "fname = \"./rev2_results/fng-sorted-users-%d-%d-%d-%d-%d-%d-%d.csv\" % (alpha1, alpha2, beta1, beta2, gamma1, gamma2, gamma3)\n",
        "TOTAL = 100\n",
        "bashCommand = 'wc -l %s' % fname\n",
        "NLINES = total_users\n",
        "bottom_precs = []\n",
        "top_precs = []\n",
        "X = []\n",
        "\n",
        "for K in range(1, TOTAL):\n",
        "    i = -1\n",
        "    f = open(fname, \"r\")\n",
        "    \n",
        "    c11, c12, c21, c22 = 0, 0, 0, 0\n",
        "    x = 0\n",
        "    for l in f:\n",
        "        i += 1\n",
        "        l = l.strip().split(',')\n",
        "        l[0] = l[0][1:]\n",
        "        if i < K:\n",
        "            if l[0] in benign:\n",
        "                c11 += 1\n",
        "            elif l[0] in fraudulent:\n",
        "                c12 += 1\n",
        "        elif i >= NLINES - K:\n",
        "            x += 1\n",
        "            if l[0] in benign:\n",
        "                c21 += 1\n",
        "            elif l[0] in fraudulent:\n",
        "                c22 += 1\n",
        "    f.close()\n",
        "    X.append(c21+c22+1)\n",
        "    bottom_precs.append((c22+0.001)*1.0/(c21+c22+0.001))\n",
        "    top_precs.append((c11+0.001)*1.0/(c11+c12+0.001))\n",
        "   \n",
        "print(\"Mean average precision:\\nFor fraudulent user prediction = %f\\nFor benign user prediction = %f\" % (np.mean(bottom_precs), np.mean(top_precs)))"
      ],
      "metadata": {
        "id": "yVRZxXyxkir9",
        "colab": {
          "base_uri": "https://localhost:8080/"
        },
        "outputId": "6c29ea29-f080-4a99-9f28-195f060afa1a"
      },
      "execution_count": 71,
      "outputs": [
        {
          "output_type": "stream",
          "name": "stdout",
          "text": [
            "Mean average precision:\n",
            "For fraudulent user prediction = 0.957414\n",
            "For benign user prediction = 1.000000\n"
          ]
        }
      ]
    },
    {
      "cell_type": "code",
      "source": [
        "# Calculate the AUC score for fraudulent user prediction (Supervised)\n",
        "\n",
        "scores = defaultdict(list)\n",
        "f = open(\"./rev2_results/fng-sorted-users-%d-%d-%d-%d-%d-%d-%d.csv\" % (alpha1, alpha2, beta1, beta2, gamma1, gamma2, gamma3), \"r\")\n",
        "for l in f:\n",
        "    l = l.strip().split(\",\")\n",
        "    if l[1] == \"nan\": l[1] = \"0\"\n",
        "    scores[l[0]].append(float(l[1]))\n",
        "    if l[2] == \"nan\": l[2] = \"0\"\n",
        "    scores[l[0]].append(float(l[2]))\n",
        "\n",
        "X = []\n",
        "Y = []\n",
        "for b in benign:\n",
        "    b_name = 'u' + b\n",
        "    if len(scores[b_name]) > 0:\n",
        "        Y.append(0)\n",
        "        X.append(scores[b_name])\n",
        "for f in fraudulent:\n",
        "    f_name = 'u' + f\n",
        "    if len(scores[f_name]) > 0:\n",
        "        Y.append(1)\n",
        "        X.append(scores[f_name])\n",
        "\n",
        "X = np.array(X)\n",
        "Y = np.array(Y)\n",
        "X, Y = shuffle(X, Y)\n",
        "skf = StratifiedKFold(n_splits=10)\n",
        "scores = []\n",
        "aucscores = []\n",
        "for train, test in skf.split(X, Y):\n",
        "    train_X = X[train]\n",
        "    train_Y = Y[train]\n",
        "    test_X = X[test]\n",
        "    test_Y = Y[test]\n",
        "\n",
        "    clf = RandomForestClassifier(n_estimators=500)\n",
        "    clf.fit(train_X, train_Y)\n",
        "    scores.append(accuracy_score(test_Y, clf.predict(test_X)))\n",
        "    try:\n",
        "        pred_Y = clf.predict_proba(test_X)\n",
        "        false_positive_rate, true_positive_rate, th =  roc_curve(test_Y, pred_Y[:,1])\n",
        "        aucscores.append(auc(false_positive_rate, true_positive_rate))\n",
        "    except:\n",
        "        pass\n",
        "    print(scores[-1], aucscores[-1])\n",
        "\n",
        "print(\"Accuracy scores\", scores, np.mean(scores))\n",
        "print(\"AUC scores\", aucscores, np.mean(aucscores))"
      ],
      "metadata": {
        "id": "1ZIt-GYpkw5o",
        "colab": {
          "base_uri": "https://localhost:8080/"
        },
        "outputId": "75582605-5eb8-4034-f22f-211d6feac20c"
      },
      "execution_count": 72,
      "outputs": [
        {
          "output_type": "stream",
          "name": "stdout",
          "text": [
            "0.9379438593116273 0.6260760708762202\n",
            "0.9389057214767791 0.6310341931471068\n",
            "0.9395940876591106 0.6424535719176586\n",
            "0.9384077719708872 0.6254643448161241\n",
            "0.9380390522299529 0.6340938604845565\n",
            "0.9389528359357466 0.6307012083469165\n",
            "0.9380069896437847 0.6295971878312194\n",
            "0.9394658373144378 0.6236077298074203\n",
            "0.9383757093847189 0.6318393168650227\n",
            "0.9381352399884575 0.6244246132052066\n",
            "Accuracy scores [0.9379438593116273, 0.9389057214767791, 0.9395940876591106, 0.9384077719708872, 0.9380390522299529, 0.9389528359357466, 0.9380069896437847, 0.9394658373144378, 0.9383757093847189, 0.9381352399884575] 0.9385827104915503\n",
            "AUC scores [0.6260760708762202, 0.6310341931471068, 0.6424535719176586, 0.6254643448161241, 0.6340938604845565, 0.6307012083469165, 0.6295971878312194, 0.6236077298074203, 0.6318393168650227, 0.6244246132052066] 0.6299292097297451\n"
          ]
        }
      ]
    }
  ]
}