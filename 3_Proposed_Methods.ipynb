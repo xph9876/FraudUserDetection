{
 "cells": [
  {
   "cell_type": "markdown",
   "id": "b530c834",
   "metadata": {},
   "source": [
    "# Fraudulent User Detection Using Amazon Dataset\n",
    "### Penghao Xu, Yuan Chen, Jiawei Wu, Haojing Lu\n",
    "\n",
    "## Part 3. Proposed New Methods\n",
    "\n",
    "This script is used to apply our proposed new model to fraudulent user detection on Amazon review dataset.\n"
   ]
  },
  {
   "cell_type": "code",
   "execution_count": 2,
   "id": "4b413c42",
   "metadata": {},
   "outputs": [
    {
     "data": {
      "text/plain": [
       "<torch._C.Generator at 0x212ce18b110>"
      ]
     },
     "execution_count": 2,
     "metadata": {},
     "output_type": "execute_result"
    }
   ],
   "source": [
    "import numpy as np\n",
    "import pandas as pd\n",
    "import torch\n",
    "from torch import nn\n",
    "import torch.nn.functional as F\n",
    "import matplotlib.pyplot as plt\n",
    "import seaborn as sns\n",
    "from sklearn.metrics import roc_curve, auc\n",
    "import time\n",
    "\n",
    "torch.manual_seed(3407)"
   ]
  },
  {
   "cell_type": "code",
   "execution_count": 3,
   "id": "57ae10a7",
   "metadata": {},
   "outputs": [],
   "source": [
    "dataset_path = \"dataset\"\n",
    "\n",
    "# inputs\n",
    "files = {}\n",
    "files['train'] = f'{dataset_path}/toy_embedded_review_train.csv'\n",
    "files['val'] = f'{dataset_path}/toy_embedded_review_val.csv'\n",
    "files['test'] = f'{dataset_path}/toy_embedded_review_test.csv'\n",
    "# files['all'] = f'{dataset_path}/all_embedded_review.csv'\n",
    "\n",
    "# labels\n",
    "label_files = {}\n",
    "label_files['train'] = f'{dataset_path}/toy_label_train.csv'\n",
    "label_files['val'] = f'{dataset_path}/toy_label_val.csv'\n",
    "label_files['test'] = f'{dataset_path}/toy_label_test.csv'\n",
    "# label_files['all'] = f'{dataset_path}/user_label_all.csv'"
   ]
  },
  {
   "cell_type": "code",
   "execution_count": 4,
   "id": "f1ecc13a",
   "metadata": {},
   "outputs": [
    {
     "data": {
      "text/plain": [
       "device(type='cuda')"
      ]
     },
     "execution_count": 4,
     "metadata": {},
     "output_type": "execute_result"
    }
   ],
   "source": [
    "# check cuda availablity\n",
    "if torch.cuda.is_available():\n",
    "    device = torch.device('cuda')\n",
    "    torch.cuda.empty_cache()\n",
    "else:\n",
    "    device = torch.device('cpu')\n",
    "    \n",
    "device"
   ]
  },
  {
   "cell_type": "code",
   "execution_count": 5,
   "id": "34e90950",
   "metadata": {},
   "outputs": [
    {
     "name": "stdout",
     "output_type": "stream",
     "text": [
      "['reviewerID', 'asin', 'rating', '0', '1', '2', '3', '4', '5', '6', '7']\n",
      "['A14CC5FIPR5YVF', '0001055178', '0.5', '0.2596393909493942', '0.17837421036491835', '0.25450734021697347', '0.0816767029552047', '0.4163100006029723', '0.6862006368173601', '0.08002756848170138', '0.42277087816745107']\n"
     ]
    }
   ],
   "source": [
    "datafile = files['train']\n",
    "\n",
    "with open(datafile, 'r') as fr:\n",
    "    data={}\n",
    "    ws = next(fr).rstrip('\\n').split(',')\n",
    "    print(ws)\n",
    "    ws = next(fr).rstrip('\\n').split(',')\n",
    "    print(ws)"
   ]
  },
  {
   "cell_type": "markdown",
   "id": "aadfd532",
   "metadata": {},
   "source": [
    "### Load data\n",
    "Here, we load all scores and embeddings and group them in each user"
   ]
  },
  {
   "cell_type": "code",
   "execution_count": 6,
   "id": "03630cc9",
   "metadata": {},
   "outputs": [],
   "source": [
    "# load data and group by products\n",
    "def load_data(datafile):\n",
    "    with open(datafile, 'r') as fr:\n",
    "        data = {}\n",
    "        fr.readline()\n",
    "        for l in fr:\n",
    "            ws = l.rstrip('\\n').split(',')\n",
    "            emb_dim = len(ws) - 2\n",
    "            if ws[1] not in data:\n",
    "                data[ws[1]] = []\n",
    "            data[ws[1]].append([ws[0], ws[1], torch.tensor([float(x) for x in ws[2:]])])\n",
    "    return data, emb_dim\n",
    "\n",
    "# load labels and sort in users order\n",
    "def load_labels(labelfile, device):\n",
    "    with open(labelfile, 'r') as fr:\n",
    "        fr.readline()\n",
    "        user_labels = []\n",
    "        for l in fr:\n",
    "            ws = l.rstrip('\\n').split(',')\n",
    "            user_labels.append((ws[0], float(ws[1]))) \n",
    "        user_labels.sort()\n",
    "        user_labels = torch.tensor([float((x[1] > 0.5)) for x in user_labels]).to(device) # label 1 if helffulness > 0.5, label 0 if helpfulness < 0.5\n",
    "        # user_labels = torch.tensor([(x[1]) for x in user_labels]).to(device)\n",
    "    return user_labels"
   ]
  },
  {
   "cell_type": "code",
   "execution_count": 7,
   "id": "8e2a9b5b",
   "metadata": {},
   "outputs": [
    {
     "name": "stdout",
     "output_type": "stream",
     "text": [
      "Statistics for train dataset:\n",
      "Total users: 12734\n",
      "Total products: 18525\n",
      "Statistics for val dataset:\n",
      "Total users: 13571\n",
      "Total products: 20823\n",
      "Statistics for test dataset:\n",
      "Total users: 12770\n",
      "Total products: 18426\n"
     ]
    }
   ],
   "source": [
    "# load all, train, val, and test files\n",
    "data = {}\n",
    "labels = {}\n",
    "for t in ['train', 'val', 'test', 'all']:\n",
    "    if t in files and t in label_files:\n",
    "        data[t], emb_dim = load_data(files[t])\n",
    "        labels[t] = load_labels(label_files[t], device)\n",
    "        print(f'Statistics for {t} dataset:')\n",
    "        print(f'Total users: {len(labels[t])}')\n",
    "        print(f'Total products: {len(data[t])}')"
   ]
  },
  {
   "cell_type": "code",
   "execution_count": 8,
   "id": "18224d81",
   "metadata": {},
   "outputs": [
    {
     "data": {
      "text/plain": [
       "tensor([1., 0., 1.,  ..., 0., 0., 0.], device='cuda:0')"
      ]
     },
     "execution_count": 8,
     "metadata": {},
     "output_type": "execute_result"
    }
   ],
   "source": [
    "labels['train'] "
   ]
  },
  {
   "cell_type": "markdown",
   "id": "6872fb17",
   "metadata": {},
   "source": [
    "### Build model\n",
    "This model takes the text embeddings and scores to predict the user helpfulness and detect fraudulent users using the following formula:\n",
    "\n",
    "$$\n",
    "\\overrightarrow{G(p)} = AGG(RNN(\\overrightarrow{S(u, p)}, \\forall u \\in U),  \\Pi_p)\n",
    "$$\n",
    "$$\n",
    "\\overrightarrow{R(u, p)} = NN(\\overrightarrow{S(u, p)}, \\overrightarrow{G(p)})\n",
    "$$\n",
    "$$\n",
    "F(u) = AGG(\\overrightarrow{R(u, p)}, \\forall p \\in P, \\overrightarrow{\\Pi_u}) \n",
    "$$\n",
    "\n",
    "In this very first model, the product and user embeddings are removed. We used the following formula:\n",
    "$$\n",
    "\\overrightarrow{G(p)} = GRU(\\overrightarrow{S(u, p)}, \\forall u \\in U)\n",
    "$$\n",
    "$$\n",
    "\\overrightarrow{R(u, p)} = NN(\\overrightarrow{S(u, p)}, \\overrightarrow{G(p)})\n",
    "$$\n",
    "$$\n",
    "F(u) = GRU(\\overrightarrow{R(u, p)}, \\forall p \\in P) \n",
    "$$"
   ]
  },
  {
   "cell_type": "code",
   "execution_count": 9,
   "id": "b3106918",
   "metadata": {},
   "outputs": [
    {
     "data": {
      "text/plain": [
       "(tensor([[[0.5000, 0.2596, 0.1784, 0.2545, 0.0817, 0.4163, 0.6862, 0.0800,\n",
       "           0.4228]],\n",
       " \n",
       "         [[1.0000, 0.6770, 0.4070, 0.0000, 0.0000, 0.3799, 0.3296, 0.0000,\n",
       "           0.3508]],\n",
       " \n",
       "         [[0.5000, 0.3462, 0.1784, 0.2545, 0.0544, 0.4996, 0.6982, 0.1067,\n",
       "           0.1794]]]),\n",
       " '0001055178')"
      ]
     },
     "execution_count": 9,
     "metadata": {},
     "output_type": "execute_result"
    }
   ],
   "source": [
    "# helper function to convert text embeddings of a product\n",
    "def emb2tensor(data, dim):\n",
    "    \"\"\"\n",
    "    input: \n",
    "        data: list, review information list. data[i][0]-reviewerID, data[i][1]-asin, data[i][2]-rating&text-embedding\n",
    "\n",
    "    \"\"\"\n",
    "    product = data[0][1]\n",
    "    tensor = torch.zeros((len(data), 1, dim))\n",
    "    for i, d in enumerate(data):\n",
    "        tensor[i,:,:] = d[-1]\n",
    "    return tensor, product\n",
    "emb2tensor(data['train'][list(data['train'].keys())[0]], emb_dim)"
   ]
  },
  {
   "cell_type": "code",
   "execution_count": 10,
   "id": "55cd6747",
   "metadata": {},
   "outputs": [],
   "source": [
    "class FUD_FC(nn.Module):\n",
    "    def __init__(self, emb_dim, device):\n",
    "        super().__init__()\n",
    "        # get parameters\n",
    "        self.dim = emb_dim\n",
    "        # set layers\n",
    "        self.fc = nn.Linear(emb_dim, 32)\n",
    "        self.fc1 = nn.Linear(emb_dim + 32, 16)\n",
    "        self.fc2 = nn.Linear(16, 16)\n",
    "        self.fc3 = nn.Linear(16, 1)\n",
    "        self.device = device\n",
    "    \n",
    "    def forward(self, x):\n",
    "        # calculate gp\n",
    "        gp = {}\n",
    "        for su in x.values(): # iterate over products' reviews, su for all reviews received by a certain product\n",
    "            tensor, p = emb2tensor(su, self.dim) # tensor'dim = (reviews_num, 1, emb_dim)\n",
    "            gp[p] = F.relu(self.fc(tensor.to(self.device).mean(dim=0))).view(-1)\n",
    "        # calculate rup\n",
    "        rup = {}\n",
    "        for su in x.values(): # iterate over products' reviews, su for all reviews received by a certain product\n",
    "            for r in su:\n",
    "                u, p, s = r # ReviewerID, Product, Feature Tensor\n",
    "                s = torch.cat((s.to(device), gp[p]))\n",
    "                if u not in rup:\n",
    "                    rup[u] = [] # store all reviews given by \"u\"\n",
    "                rup[u].append(F.relu(self.fc2(F.relu(self.fc1(s)))))\n",
    "        # fairness for users\n",
    "        fu = []\n",
    "        for u in sorted(rup.keys()):\n",
    "            v = torch.stack(rup[u], dim=1).view(len(rup[u]), 1, 16)\n",
    "            fu.append(F.sigmoid(self.fc3(v.mean(dim=0))))\n",
    "        return torch.cat(fu)"
   ]
  },
  {
   "cell_type": "code",
   "execution_count": 11,
   "id": "f66d1d96",
   "metadata": {},
   "outputs": [],
   "source": [
    "class FUD_GRU(nn.Module):\n",
    "    def __init__(self, emb_dim, device):\n",
    "        super().__init__()\n",
    "        # get parameters\n",
    "        self.dim = emb_dim\n",
    "        # set layers\n",
    "        self.GRU = nn.GRU(emb_dim, 32)\n",
    "        self.fc1 = nn.Linear(emb_dim + 32, 16)\n",
    "        self.fc2 = nn.Linear(16, 16)\n",
    "        self.GRU2 = nn.GRU(16, 1)\n",
    "        self.sigmoid = nn.Sigmoid()\n",
    "        self.device = device\n",
    "    \n",
    "    def forward(self, x):\n",
    "        # calculate gp\n",
    "        gp = {}\n",
    "        for su in x.values():\n",
    "            tensor, p = emb2tensor(su, self.dim)\n",
    "            gp[p] = self.GRU(tensor.to(self.device))[-1].view(-1)\n",
    "        # calculate rup\n",
    "        rup = {}\n",
    "        for su in x.values():\n",
    "            for r in su:\n",
    "                u, p, s = r\n",
    "                s = torch.cat((s.to(device), gp[p]))\n",
    "                if u not in rup:\n",
    "                    rup[u] = []\n",
    "                rup[u].append(self.fc2(F.relu(self.fc1(s))))\n",
    "        # fairness for users\n",
    "        fu = []\n",
    "        for u in sorted(rup.keys()):\n",
    "            v = torch.stack(rup[u], dim=1).view(len(rup[u]), 1, 16)\n",
    "            fu.append(self.sigmoid(self.GRU2(v)[-1]))\n",
    "        return torch.cat(fu)"
   ]
  },
  {
   "cell_type": "markdown",
   "id": "1932eac6",
   "metadata": {},
   "source": [
    "### Train model"
   ]
  },
  {
   "cell_type": "code",
   "execution_count": 12,
   "id": "4db3a62b",
   "metadata": {},
   "outputs": [
    {
     "data": {
      "text/plain": [
       "FUD_FC(\n",
       "  (fc): Linear(in_features=9, out_features=32, bias=True)\n",
       "  (fc1): Linear(in_features=41, out_features=16, bias=True)\n",
       "  (fc2): Linear(in_features=16, out_features=16, bias=True)\n",
       "  (fc3): Linear(in_features=16, out_features=1, bias=True)\n",
       ")"
      ]
     },
     "execution_count": 12,
     "metadata": {},
     "output_type": "execute_result"
    }
   ],
   "source": [
    "model = FUD_FC(emb_dim, device).to(device)\n",
    "model"
   ]
  },
  {
   "cell_type": "code",
   "execution_count": 13,
   "id": "fecb047e",
   "metadata": {},
   "outputs": [],
   "source": [
    "# Set up loss function\n",
    "criterion = nn.BCELoss()\n",
    "train_losses = []\n",
    "val_losses = []\n",
    "epoch_time = []"
   ]
  },
  {
   "cell_type": "code",
   "execution_count": 14,
   "id": "3d2ed7db",
   "metadata": {},
   "outputs": [
    {
     "name": "stderr",
     "output_type": "stream",
     "text": [
      "C:\\Users\\wjw18\\anaconda3\\lib\\site-packages\\torch\\nn\\functional.py:1944: UserWarning: nn.functional.sigmoid is deprecated. Use torch.sigmoid instead.\n",
      "  warnings.warn(\"nn.functional.sigmoid is deprecated. Use torch.sigmoid instead.\")\n"
     ]
    },
    {
     "name": "stdout",
     "output_type": "stream",
     "text": [
      "loss calculated\n",
      "Epoch 0, Train Loss: 0.642778, Val. Loss: 0.616682, cost 93.59408760070801s\n",
      "loss calculated\n",
      "Epoch 1, Train Loss: 0.614561, Val. Loss: 0.586297, cost 95.39678573608398s\n",
      "loss calculated\n",
      "Epoch 2, Train Loss: 0.583236, Val. Loss: 0.550620, cost 101.41609692573547s\n",
      "loss calculated\n",
      "Epoch 3, Train Loss: 0.547217, Val. Loss: 0.508068, cost 98.55379438400269s\n",
      "loss calculated\n",
      "Epoch 4, Train Loss: 0.504450, Val. Loss: 0.458139, cost 97.9505443572998s\n",
      "loss calculated\n",
      "Epoch 5, Train Loss: 0.454604, Val. Loss: 0.402362, cost 99.35504364967346s\n",
      "loss calculated\n",
      "Epoch 6, Train Loss: 0.399145, Val. Loss: 0.344483, cost 100.03552103042603s\n",
      "loss calculated\n",
      "Epoch 7, Train Loss: 0.341963, Val. Loss: 0.291297, cost 100.5773675441742s\n",
      "loss calculated\n",
      "Epoch 8, Train Loss: 0.289455, Val. Loss: 0.251617, cost 97.44920754432678s\n",
      "loss calculated\n",
      "Epoch 9, Train Loss: 0.250221, Val. Loss: 0.233190, cost 98.29795241355896s\n",
      "loss calculated\n",
      "Epoch 10, Train Loss: 0.231912, Val. Loss: 0.237269, cost 98.20456552505493s\n",
      "loss calculated\n",
      "Epoch 11, Train Loss: 0.235956, Val. Loss: 0.238476, cost 98.86057662963867s\n",
      "loss calculated\n",
      "Epoch 12, Train Loss: 0.237173, Val. Loss: 0.239498, cost 97.05834174156189s\n",
      "loss calculated\n",
      "Epoch 13, Train Loss: 0.238210, Val. Loss: 0.240288, cost 99.45818328857422s\n",
      "loss calculated\n",
      "Epoch 14, Train Loss: 0.239020, Val. Loss: 0.240866, cost 98.8869047164917s\n",
      "loss calculated\n",
      "Epoch 15, Train Loss: 0.239619, Val. Loss: 0.241199, cost 98.22602581977844s\n",
      "loss calculated\n",
      "Epoch 16, Train Loss: 0.239978, Val. Loss: 0.241317, cost 97.6594591140747s\n",
      "loss calculated\n",
      "Epoch 17, Train Loss: 0.240122, Val. Loss: 0.241241, cost 97.3316822052002s\n",
      "loss calculated\n",
      "Epoch 18, Train Loss: 0.240072, Val. Loss: 0.240976, cost 95.45792317390442s\n",
      "loss calculated\n",
      "Epoch 19, Train Loss: 0.239832, Val. Loss: 0.240576, cost 97.45927810668945s\n",
      "loss calculated\n",
      "Epoch 20, Train Loss: 0.239460, Val. Loss: 0.240049, cost 98.7993745803833s\n",
      "loss calculated\n",
      "Epoch 21, Train Loss: 0.238960, Val. Loss: 0.239994, cost 99.11831140518188s\n",
      "loss calculated\n",
      "Epoch 22, Train Loss: 0.238909, Val. Loss: 0.239921, cost 97.91054129600525s\n",
      "loss calculated\n",
      "Epoch 23, Train Loss: 0.238837, Val. Loss: 0.239834, cost 94.14179348945618s\n",
      "loss calculated\n",
      "Epoch 24, Train Loss: 0.238752, Val. Loss: 0.239750, cost 97.49710607528687s\n",
      "loss calculated\n",
      "Epoch 25, Train Loss: 0.238672, Val. Loss: 0.239658, cost 97.52647876739502s\n",
      "loss calculated\n",
      "Epoch 26, Train Loss: 0.238580, Val. Loss: 0.239569, cost 98.84726071357727s\n",
      "loss calculated\n",
      "Epoch 27, Train Loss: 0.238492, Val. Loss: 0.239439, cost 95.91850209236145s\n",
      "loss calculated\n",
      "Epoch 28, Train Loss: 0.238365, Val. Loss: 0.239334, cost 96.2284619808197s\n",
      "loss calculated\n"
     ]
    }
   ],
   "source": [
    "optimizer = torch.optim.Adam(model.parameters(), lr=1e-2, weight_decay=1e-7)\n",
    "epochs = 30\n",
    "report_epoch = 1\n",
    "\n",
    "for i in range(epochs):\n",
    "    start_time = time.time()\n",
    "    model.train()\n",
    "    y_pred = model(data['train'])\n",
    "    loss = criterion(y_pred.view(-1), labels['train'])\n",
    "    print('loss calculated')\n",
    "    optimizer.zero_grad()\n",
    "    loss.backward()\n",
    "    if i > 10:\n",
    "        optimizer.param_groups[0]['lr'] = 1e-3\n",
    "    if i > 20: \n",
    "        optimizer.param_groups[0]['lr'] = 1e-4\n",
    "    optimizer.step()\n",
    "    train_losses.append(loss.view(-1).cpu().detach().numpy()[0])\n",
    "    if not i % report_epoch:\n",
    "        model.eval()\n",
    "        pred = model(data['val'])\n",
    "        val_loss = criterion(pred.view(-1), labels['val'])\n",
    "        val_losses.append(val_loss.view(-1).cpu().detach().numpy()[0])\n",
    "        cost_time = time.time() - start_time\n",
    "        epoch_time.append(cost_time)\n",
    "        print(f'Epoch {i}, Train Loss: {train_losses[-1]:.6f}, Val. Loss: {val_losses[-1]:.6f}, cost {time.time() - start_time}s')"
   ]
  },
  {
   "cell_type": "markdown",
   "id": "603b5211",
   "metadata": {},
   "source": [
    "Save model weights if needed"
   ]
  },
  {
   "cell_type": "code",
   "execution_count": null,
   "id": "22806cde",
   "metadata": {},
   "outputs": [],
   "source": [
    "\n",
    "torch.save(model.state_dict(), 'Model_weights_gru.tar')"
   ]
  },
  {
   "cell_type": "markdown",
   "id": "82adaf7e",
   "metadata": {},
   "source": [
    "Visualize training process"
   ]
  },
  {
   "cell_type": "code",
   "execution_count": null,
   "id": "c967045c",
   "metadata": {},
   "outputs": [],
   "source": [
    "fig, ax = plt.subplots(figsize=(6,6))\n",
    "sns.set(style='ticks', font_scale=1.5)\n",
    "plt.plot(list(range(epochs)), train_losses, color='b', label='Train loss')\n",
    "plt.plot(list(range(0, epochs, report_epoch)), val_losses, color='r', label='Val. loss')\n",
    "plt.ylabel('BCE Loss')\n",
    "plt.xlabel('Epochs')\n",
    "plt.title('Training process')\n",
    "plt.legend()\n",
    "sns.despine()"
   ]
  },
  {
   "cell_type": "markdown",
   "id": "bae2aa67",
   "metadata": {},
   "source": [
    "### Evaluate model\n",
    "Evaluate model on train, val, test, and all dataset"
   ]
  },
  {
   "cell_type": "code",
   "execution_count": null,
   "id": "865eecfb",
   "metadata": {},
   "outputs": [],
   "source": [
    "# Making Prediction\n",
    "preds = {}\n",
    "preds['val'] = model(data['val']).view(-1).cpu().detach().numpy()\n",
    "preds['test'] = model(data['test']).view(-1).cpu().detach().numpy()\n",
    "preds_prob = preds.copy()\n",
    "\n",
    "th = 0.5\n",
    "preds['val'] = preds['val'] >= th\n",
    "preds['test'] = preds['test'] >= th"
   ]
  },
  {
   "cell_type": "code",
   "execution_count": null,
   "id": "aca0797a",
   "metadata": {},
   "outputs": [],
   "source": [
    "th = 0.5\n",
    "preds['val'] = preds['val'] >= th\n",
    "preds['test'] = preds['test'] >= th"
   ]
  },
  {
   "cell_type": "code",
   "execution_count": null,
   "id": "aaa5f8ff",
   "metadata": {},
   "outputs": [
    {
     "data": {
      "text/plain": [
       "{'val': {'accuracy_score': 0.9339031758897649,\n",
       "  'f1_score': 0.965822061345018,\n",
       "  'precision': 0.9339031758897649,\n",
       "  'recall': 1.0,\n",
       "  'roc_auc_score': 0.5659754896346756},\n",
       " 'test': {'accuracy_score': 0.9347689898198903,\n",
       "  'f1_score': 0.9662848585421135,\n",
       "  'precision': 0.9347689898198903,\n",
       "  'recall': 1.0,\n",
       "  'roc_auc_score': 0.5416270554464561}}"
      ]
     },
     "execution_count": 31,
     "metadata": {},
     "output_type": "execute_result"
    }
   ],
   "source": [
    "# Evaluate\n",
    "from sklearn.metrics import f1_score\n",
    "from sklearn.metrics import accuracy_score\n",
    "from sklearn.metrics import precision_score\n",
    "from sklearn.metrics import roc_auc_score\n",
    "from sklearn.metrics import recall_score\n",
    "\n",
    "y_true = {}\n",
    "\n",
    "labels['val'].to\n",
    "\n",
    "metrics = {}\n",
    "for k in ['val', 'test']:\n",
    "    metrics[k] = {}\n",
    "    y_true[k] = labels[k].clone().view(-1).cpu().detach().numpy()\n",
    "    metrics[k]['accuracy_score'] = accuracy_score(y_pred=preds[k], y_true=y_true[k])\n",
    "    metrics[k]['f1_score'] = f1_score(y_pred=preds[k], y_true=y_true[k])\n",
    "    metrics[k]['precision'] = precision_score(y_pred=preds[k], y_true=y_true[k])\n",
    "    metrics[k]['recall'] = recall_score(y_pred=preds[k], y_true=y_true[k])\n",
    "    metrics[k]['roc_auc_score'] = roc_auc_score(y_score=preds_prob[k], y_true=y_true[k])\n",
    "metrics\n"
   ]
  },
  {
   "cell_type": "code",
   "execution_count": null,
   "id": "b69e6a72",
   "metadata": {},
   "outputs": [
    {
     "data": {
      "text/plain": [
       "(array([ 258, 4273, 4688,  130,  231,  498,  556,  571,  514, 1051],\n",
       "       dtype=int64),\n",
       " array([0.61763585, 0.65587217, 0.6941084 , 0.73234475, 0.770581  ,\n",
       "        0.8088173 , 0.84705365, 0.8852899 , 0.9235262 , 0.9617625 ,\n",
       "        0.9999988 ], dtype=float32))"
      ]
     },
     "execution_count": 32,
     "metadata": {},
     "output_type": "execute_result"
    }
   ],
   "source": [
    "np.histogram(preds_prob['test'])"
   ]
  },
  {
   "cell_type": "markdown",
   "id": "593e57dd",
   "metadata": {},
   "source": [
    "ROC curve and AUC"
   ]
  },
  {
   "cell_type": "code",
   "execution_count": null,
   "id": "6d7e4932",
   "metadata": {
    "scrolled": false
   },
   "outputs": [
    {
     "data": {
      "text/plain": [
       "Text(0.5, 1.0, 'ROC curve for test dataset')"
      ]
     },
     "execution_count": 33,
     "metadata": {},
     "output_type": "execute_result"
    },
    {
     "data": {
      "image/png": "[encoded data removed]",
      "text/plain": [
       "<Figure size 432x288 with 1 Axes>"
      ]
     },
     "metadata": {},
     "output_type": "display_data"
    }
   ],
   "source": [
    "from sklearn.metrics import roc_curve\n",
    "import matplotlib.pyplot as plt\n",
    "fpr, tpr, th = roc_curve(y_true=y_true['test'], y_score=preds_prob['test'])\n",
    "plt.plot(fpr, tpr)\n",
    "plt.ylabel('TPR')\n",
    "plt.xlabel('FPR')\n",
    "plt.title(f'ROC curve for test dataset')"
   ]
  },
  {
   "cell_type": "code",
   "execution_count": null,
   "id": "5dc94e42",
   "metadata": {},
   "outputs": [
    {
     "data": {
      "image/png": "[encoded data removed]",
      "text/plain": [
       "<Figure size 432x432 with 1 Axes>"
      ]
     },
     "metadata": {},
     "output_type": "display_data"
    },
    {
     "data": {
      "image/png": "[encoded data removed]",
      "text/plain": [
       "<Figure size 432x432 with 1 Axes>"
      ]
     },
     "metadata": {},
     "output_type": "display_data"
    }
   ],
   "source": [
    "for k, v in y_true.items():\n",
    "    fpr, tpr, _ = roc_curve(v, preds[k])\n",
    "    roc_auc = auc(fpr, tpr)\n",
    "    fig, ax = plt.subplots(figsize=(6,6))\n",
    "    plt.plot(fpr, tpr)\n",
    "    plt.ylabel('TPR')\n",
    "    plt.xlabel('FPR')\n",
    "    plt.title(f'ROC curve in {k} dataset \\n AUC:{roc_auc:.4f}')"
   ]
  },
  {
   "cell_type": "code",
   "execution_count": null,
   "id": "66f58f01",
   "metadata": {},
   "outputs": [],
   "source": []
  },
  {
   "cell_type": "code",
   "execution_count": null,
   "id": "e0814a83",
   "metadata": {},
   "outputs": [],
   "source": []
  }
 ],
 "metadata": {
  "kernelspec": {
   "display_name": "Python 3 (ipykernel)",
   "language": "python",
   "name": "python3"
  },
  "language_info": {
   "codemirror_mode": {
    "name": "ipython",
    "version": 3
   },
   "file_extension": ".py",
   "mimetype": "text/x-python",
   "name": "python",
   "nbconvert_exporter": "python",
   "pygments_lexer": "ipython3",
   "version": "3.9.7"
  }
 },
 "nbformat": 4,
 "nbformat_minor": 5
}
