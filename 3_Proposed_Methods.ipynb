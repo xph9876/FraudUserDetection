{
 "cells": [
  {
   "cell_type": "markdown",
   "id": "b530c834",
   "metadata": {},
   "source": [
    "# Fraudulent User Detection Using Amazon Dataset\n",
    "### Penghao Xu, Yuan Chen, Jiawei Wu, Haojing Lu\n",
    "\n",
    "## Part 3. Proposed New Methods\n",
    "\n",
    "This script is used to apply our proposed new model to fraudulent user detection on Amazon review dataset.\n"
   ]
  },
  {
   "cell_type": "code",
   "execution_count": 1,
   "id": "4b413c42",
   "metadata": {},
   "outputs": [
    {
     "data": {
      "text/plain": [
       "<torch._C.Generator at 0x7f9833aad650>"
      ]
     },
     "execution_count": 1,
     "metadata": {},
     "output_type": "execute_result"
    }
   ],
   "source": [
    "import numpy as np\n",
    "import pandas as pd\n",
    "import torch\n",
    "from torch import nn\n",
    "import torch.nn.functional as F\n",
    "import matplotlib.pyplot as plt\n",
    "import seaborn as sns\n",
    "from sklearn.metrics import roc_curve, auc\n",
    "\n",
    "torch.manual_seed(3407)"
   ]
  },
  {
   "cell_type": "code",
   "execution_count": 2,
   "id": "57ae10a7",
   "metadata": {},
   "outputs": [],
   "source": [
    "datafile = f'dataset/toy_embedded_review.csv'\n",
    "labelfile = f'dataset/toy_user_label.csv'"
   ]
  },
  {
   "cell_type": "code",
   "execution_count": 3,
   "id": "f1ecc13a",
   "metadata": {},
   "outputs": [
    {
     "data": {
      "text/plain": [
       "device(type='cuda')"
      ]
     },
     "execution_count": 3,
     "metadata": {},
     "output_type": "execute_result"
    }
   ],
   "source": [
    "# check cuda availablity\n",
    "if torch.cuda.is_available():\n",
    "    device = torch.device('cuda')\n",
    "    torch.cuda.empty_cache()\n",
    "else:\n",
    "    device = torch.device('cpu')\n",
    "    \n",
    "device"
   ]
  },
  {
   "cell_type": "markdown",
   "id": "aadfd532",
   "metadata": {},
   "source": [
    "### Load data\n",
    "Here, we load all scores and embeddings and group them in each user"
   ]
  },
  {
   "cell_type": "code",
   "execution_count": 4,
   "id": "8e2a9b5b",
   "metadata": {},
   "outputs": [
    {
     "name": "stdout",
     "output_type": "stream",
     "text": [
      "Total users: 12734\n",
      "tensor(0.8889, device='cuda:0')\n",
      "Total products: 18525\n",
      "[['A14CC5FIPR5YVF', '0001055178', tensor([ 0.5000,  2.7292, -0.4162, -0.8086,  0.7488,  0.2579, -0.2007, -0.4329,\n",
      "        -0.7743, -0.1994,  0.1257,  0.3741,  0.0555, -0.2531,  0.1607,  0.1391,\n",
      "         0.0136,  0.0796, -0.0667,  0.1226,  0.0954])], ['A19D816DMGI44L', '0001055178', tensor([ 1.0000e+00, -6.2331e+00,  1.2535e+00, -1.1915e-01,  8.1381e-02,\n",
      "         4.7569e-02,  1.9290e-02,  3.6569e-02, -1.6166e-02, -4.6427e-03,\n",
      "         7.9938e-02,  9.1746e-02,  3.5788e-02, -7.9514e-02,  7.6651e-02,\n",
      "         9.8112e-02, -4.2680e-02, -7.7973e-02, -2.0858e-01,  4.2270e-03,\n",
      "        -1.3355e-01])], ['A12RI2CLUGCZ26', '0001055178', tensor([ 5.0000e-01,  8.3766e+00,  1.1362e+00, -1.3885e+00,  3.1851e-01,\n",
      "         7.3440e-01, -3.6046e-01,  7.5319e-01, -3.7999e-01,  5.0391e-01,\n",
      "        -7.1455e-02, -3.5825e-01, -1.0929e+00,  4.1422e-01, -3.1756e-01,\n",
      "         2.9747e-03, -2.8366e-01,  1.8401e-02, -3.3007e-02, -5.1558e-02,\n",
      "         6.9910e-02])]]\n"
     ]
    }
   ],
   "source": [
    "# load labels and sort in users order\n",
    "with open(labelfile, 'r') as fr:\n",
    "    fr.readline()\n",
    "    user_labels = []\n",
    "    for l in fr:\n",
    "        ws = l.rstrip('\\n').split(',')\n",
    "        user_labels.append((ws[0], float(ws[1])))\n",
    "    user_labels.sort()\n",
    "    user_labels = torch.tensor([x[1] for x in user_labels]).to(device)\n",
    "\n",
    "# load data and group by products\n",
    "with open(datafile, 'r') as fr:\n",
    "    data = {}\n",
    "    for l in fr:\n",
    "        ws = l.rstrip('\\n').split(',')\n",
    "        emb_dim = len(ws) - 2\n",
    "        if ws[1] not in data:\n",
    "            data[ws[1]] = []\n",
    "        data[ws[1]].append([ws[0], ws[1], torch.tensor([float(x) for x in ws[2:]])])\n",
    "print(f'Total users: {len(user_labels)}')\n",
    "print(user_labels[0])\n",
    "print(f'Total products: {len(data)}')\n",
    "print(data['0001055178'])"
   ]
  },
  {
   "cell_type": "markdown",
   "id": "6872fb17",
   "metadata": {},
   "source": [
    "### Build model\n",
    "This model takes the text embeddings and scores to predict the user helpfulness and detect fraudulent users using the following formula:\n",
    "\n",
    "$$\n",
    "\\overrightarrow{G(p)} = AGG(RNN(\\overrightarrow{S(u, p)}, \\forall u \\in U),  \\Pi_p)\n",
    "$$\n",
    "$$\n",
    "\\overrightarrow{R(u, p)} = NN(\\overrightarrow{S(u, p)}, \\overrightarrow{G(p)})\n",
    "$$\n",
    "$$\n",
    "F(u) = AGG(\\overrightarrow{R(u, p)}, \\forall p \\in P, \\overrightarrow{\\Pi_u}) \n",
    "$$\n",
    "\n",
    "In this very first model, the product and user embeddings are removed. We used the following formula:\n",
    "$$\n",
    "\\overrightarrow{G(p)} = GRU(\\overrightarrow{S(u, p)}, \\forall u \\in U)\n",
    "$$\n",
    "$$\n",
    "\\overrightarrow{R(u, p)} = NN(\\overrightarrow{S(u, p)}, \\overrightarrow{G(p)})\n",
    "$$\n",
    "$$\n",
    "F(u) = GRU(\\overrightarrow{R(u, p)}, \\forall p \\in P) \n",
    "$$"
   ]
  },
  {
   "cell_type": "code",
   "execution_count": 5,
   "id": "b3106918",
   "metadata": {},
   "outputs": [
    {
     "data": {
      "text/plain": [
       "(tensor([[[ 5.0000e-01,  2.7292e+00, -4.1624e-01, -8.0864e-01,  7.4878e-01,\n",
       "            2.5790e-01, -2.0068e-01, -4.3292e-01, -7.7429e-01, -1.9938e-01,\n",
       "            1.2567e-01,  3.7410e-01,  5.5511e-02, -2.5312e-01,  1.6074e-01,\n",
       "            1.3909e-01,  1.3617e-02,  7.9579e-02, -6.6650e-02,  1.2255e-01,\n",
       "            9.5400e-02]],\n",
       " \n",
       "         [[ 1.0000e+00, -6.2331e+00,  1.2535e+00, -1.1915e-01,  8.1381e-02,\n",
       "            4.7569e-02,  1.9290e-02,  3.6569e-02, -1.6166e-02, -4.6427e-03,\n",
       "            7.9938e-02,  9.1746e-02,  3.5788e-02, -7.9514e-02,  7.6651e-02,\n",
       "            9.8112e-02, -4.2680e-02, -7.7973e-02, -2.0858e-01,  4.2270e-03,\n",
       "           -1.3355e-01]],\n",
       " \n",
       "         [[ 5.0000e-01,  8.3766e+00,  1.1362e+00, -1.3885e+00,  3.1851e-01,\n",
       "            7.3440e-01, -3.6046e-01,  7.5319e-01, -3.7999e-01,  5.0391e-01,\n",
       "           -7.1455e-02, -3.5825e-01, -1.0929e+00,  4.1422e-01, -3.1756e-01,\n",
       "            2.9747e-03, -2.8366e-01,  1.8401e-02, -3.3007e-02, -5.1558e-02,\n",
       "            6.9910e-02]]]),\n",
       " '0001055178')"
      ]
     },
     "execution_count": 5,
     "metadata": {},
     "output_type": "execute_result"
    }
   ],
   "source": [
    "# helper function to convert text embeddings of a product\n",
    "def emb2tensor(data, dim):\n",
    "    product = data[0][1]\n",
    "    tensor = torch.zeros((len(data), 1, dim))\n",
    "    for i, d in enumerate(data):\n",
    "        tensor[i,:,:] = d[-1]\n",
    "    return tensor, product\n",
    "emb2tensor(data['0001055178'], emb_dim)"
   ]
  },
  {
   "cell_type": "code",
   "execution_count": 6,
   "id": "55cd6747",
   "metadata": {},
   "outputs": [],
   "source": [
    "class FUD(nn.Module):\n",
    "    def __init__(self, emb_dim, device):\n",
    "        super().__init__()\n",
    "        # get parameters\n",
    "        self.dim = emb_dim\n",
    "        # set layers\n",
    "        self.GRU = nn.GRU(emb_dim, 32)\n",
    "        self.fc1 = nn.Linear(emb_dim + 32, 16)\n",
    "        self.fc2 = nn.Linear(16, 16)\n",
    "        self.GRU2 = nn.GRU(16, 1)\n",
    "        self.device = device\n",
    "    \n",
    "    def forward(self, x):\n",
    "        # calculate gp\n",
    "        gp = {}\n",
    "        for su in x.values():\n",
    "            tensor, p = emb2tensor(su, self.dim)\n",
    "            gp[p] = self.GRU(tensor.to(self.device))[-1].view(-1)\n",
    "        # calculate rup\n",
    "        rup = {}\n",
    "        for su in x.values():\n",
    "            for r in su:\n",
    "                u, p, s = r\n",
    "                s = torch.cat((s.to(device), gp[p]))\n",
    "                if u not in rup:\n",
    "                    rup[u] = []\n",
    "                rup[u].append(self.fc2(F.relu(self.fc1(s))))\n",
    "        # fairness for users\n",
    "        fu = []\n",
    "        for u in sorted(rup.keys()):\n",
    "            v = torch.stack(rup[u], dim=1).view(len(rup[u]), 1, 16)\n",
    "            fu.append(self.GRU2(v)[-1])\n",
    "        return torch.cat(fu)"
   ]
  },
  {
   "cell_type": "markdown",
   "id": "1932eac6",
   "metadata": {},
   "source": [
    "### Train model"
   ]
  },
  {
   "cell_type": "code",
   "execution_count": 7,
   "id": "4db3a62b",
   "metadata": {},
   "outputs": [
    {
     "data": {
      "text/plain": [
       "FUD(\n",
       "  (GRU): GRU(21, 32)\n",
       "  (fc1): Linear(in_features=53, out_features=16, bias=True)\n",
       "  (fc2): Linear(in_features=16, out_features=16, bias=True)\n",
       "  (GRU2): GRU(16, 1)\n",
       ")"
      ]
     },
     "execution_count": 7,
     "metadata": {},
     "output_type": "execute_result"
    }
   ],
   "source": [
    "model = FUD(emb_dim, device).to(device)\n",
    "model"
   ]
  },
  {
   "cell_type": "code",
   "execution_count": 8,
   "id": "3d2ed7db",
   "metadata": {},
   "outputs": [
    {
     "name": "stdout",
     "output_type": "stream",
     "text": [
      "Epoch 0, MSE Loss: 0.8416523933410645\n",
      "Epoch 5, MSE Loss: 0.5479752421379089\n",
      "Epoch 10, MSE Loss: 0.35272058844566345\n",
      "Epoch 15, MSE Loss: 0.2406434714794159\n",
      "Epoch 20, MSE Loss: 0.17728972434997559\n",
      "Epoch 25, MSE Loss: 0.1397612988948822\n",
      "Epoch 30, MSE Loss: 0.11625387519598007\n",
      "Epoch 35, MSE Loss: 0.10064436495304108\n",
      "Epoch 40, MSE Loss: 0.08990230411291122\n",
      "Epoch 45, MSE Loss: 0.08219258487224579\n"
     ]
    }
   ],
   "source": [
    "optimizer = torch.optim.SGD(model.parameters(), lr=1e-2, weight_decay=1e-7)\n",
    "criterion = nn.MSELoss()\n",
    "epochs = 50\n",
    "report_epoch = 5\n",
    "losses = []\n",
    "\n",
    "for i in range(epochs):\n",
    "    model.train()\n",
    "    y_pred = model(data)\n",
    "    loss = criterion(y_pred.view(-1), user_labels)\n",
    "    optimizer.zero_grad()\n",
    "    loss.backward()\n",
    "    optimizer.step()\n",
    "    losses.append(loss.view(-1).cpu().detach().numpy()[0])\n",
    "    if not i % report_epoch:\n",
    "        print(f'Epoch {i}, MSE Loss: {losses[-1]}')"
   ]
  },
  {
   "cell_type": "markdown",
   "id": "603b5211",
   "metadata": {},
   "source": [
    "Save model weights if needed"
   ]
  },
  {
   "cell_type": "code",
   "execution_count": 9,
   "id": "22806cde",
   "metadata": {},
   "outputs": [],
   "source": [
    "torch.save(model.state_dict(), 'Model_weights.tar')"
   ]
  },
  {
   "cell_type": "markdown",
   "id": "82adaf7e",
   "metadata": {},
   "source": [
    "Visualize training process"
   ]
  },
  {
   "cell_type": "code",
   "execution_count": 10,
   "id": "c967045c",
   "metadata": {},
   "outputs": [
    {
     "data": {
      "text/plain": [
       "Text(0.5, 1.0, 'Training process')"
      ]
     },
     "execution_count": 10,
     "metadata": {},
     "output_type": "execute_result"
    },
    {
     "data": {
      "image/png": "[encoded data removed]",
      "text/plain": [
       "<Figure size 432x432 with 1 Axes>"
      ]
     },
     "metadata": {
      "needs_background": "light"
     },
     "output_type": "display_data"
    }
   ],
   "source": [
    "fig, ax = plt.subplots(figsize=(6,6))\n",
    "sns.set(style='ticks', font_scale=2)\n",
    "plt.plot(list(range(epochs)), losses)\n",
    "plt.ylabel('MSE Loss')\n",
    "plt.xlabel('Epochs')\n",
    "plt.title('Training process')"
   ]
  },
  {
   "cell_type": "markdown",
   "id": "bae2aa67",
   "metadata": {},
   "source": [
    "Check accuracy"
   ]
  },
  {
   "cell_type": "code",
   "execution_count": 11,
   "id": "2bd610fe",
   "metadata": {},
   "outputs": [],
   "source": [
    "# generate labels\n",
    "labels = user_labels.cpu().detach().numpy()\n",
    "labels[labels>0.5] = 1\n",
    "labels[labels<0.5] = 0"
   ]
  },
  {
   "cell_type": "code",
   "execution_count": 12,
   "id": "5cb442e7",
   "metadata": {},
   "outputs": [
    {
     "name": "stdout",
     "output_type": "stream",
     "text": [
      "Accuracy: 0.8667\n"
     ]
    }
   ],
   "source": [
    "threshold = 0.5\n",
    "preds = y_pred.view(-1).cpu().detach().numpy()\n",
    "preds[preds > threshold] = 1\n",
    "preds[preds < threshold] = 0\n",
    "acc = np.sum(preds == labels)/len(preds)\n",
    "print(f'Accuracy: {acc:.4f}')"
   ]
  },
  {
   "cell_type": "markdown",
   "id": "593e57dd",
   "metadata": {},
   "source": [
    "ROC curve and AUC"
   ]
  },
  {
   "cell_type": "code",
   "execution_count": 13,
   "id": "6d7e4932",
   "metadata": {},
   "outputs": [
    {
     "data": {
      "text/plain": [
       "Text(0.5, 1.0, 'ROC curve\\n AUC:0.3903')"
      ]
     },
     "execution_count": 13,
     "metadata": {},
     "output_type": "execute_result"
    },
    {
     "data": {
      "image/png": "[encoded data removed]",
      "text/plain": [
       "<Figure size 432x432 with 1 Axes>"
      ]
     },
     "metadata": {},
     "output_type": "display_data"
    }
   ],
   "source": [
    "fpr, tpr, _ = roc_curve(labels, y_pred.view(-1).cpu().detach().numpy())\n",
    "roc_auc = auc(fpr, tpr)\n",
    "fig, ax = plt.subplots(figsize=(6,6))\n",
    "sns.set(style='ticks', font_scale=2)\n",
    "plt.plot(fpr, tpr)\n",
    "plt.ylabel('TPR')\n",
    "plt.xlabel('FPR')\n",
    "plt.title(f'ROC curve\\n AUC:{roc_auc:.4f}')"
   ]
  },
  {
   "cell_type": "code",
   "execution_count": null,
   "id": "5dc94e42",
   "metadata": {},
   "outputs": [],
   "source": []
  }
 ],
 "metadata": {
  "kernelspec": {
   "display_name": "Python 3 (ipykernel)",
   "language": "python",
   "name": "python3"
  },
  "language_info": {
   "codemirror_mode": {
    "name": "ipython",
    "version": 3
   },
   "file_extension": ".py",
   "mimetype": "text/x-python",
   "name": "python",
   "nbconvert_exporter": "python",
   "pygments_lexer": "ipython3",
   "version": "3.9.9"
  }
 },
 "nbformat": 4,
 "nbformat_minor": 5
}
