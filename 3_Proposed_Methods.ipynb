{
 "cells": [
  {
   "cell_type": "markdown",
   "id": "b530c834",
   "metadata": {},
   "source": [
    "# Fraudulent User Detection Using Amazon Dataset\n",
    "### Penghao Xu, Yuan Chen, Jiawei Wu, Haojing Lu\n",
    "\n",
    "## Part 3. Proposed New Methods\n",
    "\n",
    "This script is used to apply our proposed new model to fraudulent user detection on Amazon review dataset.\n"
   ]
  },
  {
   "cell_type": "code",
   "execution_count": 1,
   "id": "4b413c42",
   "metadata": {},
   "outputs": [
    {
     "data": {
      "text/plain": [
       "<torch._C.Generator at 0x2e381734db0>"
      ]
     },
     "execution_count": 1,
     "metadata": {},
     "output_type": "execute_result"
    }
   ],
   "source": [
    "import numpy as np\n",
    "import pandas as pd\n",
    "import torch\n",
    "from torch import nn\n",
    "import torch.nn.functional as F\n",
    "import matplotlib.pyplot as plt\n",
    "import seaborn as sns\n",
    "from sklearn.metrics import roc_curve, auc\n",
    "import time\n",
    "\n",
    "torch.manual_seed(3407)"
   ]
  },
  {
   "cell_type": "code",
   "execution_count": 2,
   "id": "57ae10a7",
   "metadata": {},
   "outputs": [],
   "source": [
    "dataset_path = \"dataset\"\n",
    "\n",
    "# inputs\n",
    "files = {}\n",
    "files['train'] = f'{dataset_path}/toy_embedded_review_train.csv'\n",
    "files['val'] = f'{dataset_path}/toy_embedded_review_val.csv'\n",
    "files['test'] = f'{dataset_path}/toy_embedded_review_test.csv'\n",
    "# files['all'] = f'{dataset_path}/all_embedded_review.csv'\n",
    "\n",
    "# labels\n",
    "label_files = {}\n",
    "label_files['train'] = f'{dataset_path}/toy_label_train.csv'\n",
    "label_files['val'] = f'{dataset_path}/toy_label_val.csv'\n",
    "label_files['test'] = f'{dataset_path}/toy_label_test.csv'\n",
    "# label_files['all'] = f'{dataset_path}/user_label_all.csv'"
   ]
  },
  {
   "cell_type": "code",
   "execution_count": 3,
   "id": "f1ecc13a",
   "metadata": {},
   "outputs": [
    {
     "data": {
      "text/plain": [
       "device(type='cuda')"
      ]
     },
     "execution_count": 3,
     "metadata": {},
     "output_type": "execute_result"
    }
   ],
   "source": [
    "# check cuda availablity\n",
    "if torch.cuda.is_available():\n",
    "    device = torch.device('cuda')\n",
    "    torch.cuda.empty_cache()\n",
    "else:\n",
    "    device = torch.device('cpu')\n",
    "    \n",
    "device"
   ]
  },
  {
   "cell_type": "code",
   "execution_count": 4,
   "id": "34e90950",
   "metadata": {},
   "outputs": [
    {
     "name": "stdout",
     "output_type": "stream",
     "text": [
      "['reviewerID', 'asin', 'rating', '0', '1', '2', '3', '4', '5', '6', '7']\n",
      "['A14CC5FIPR5YVF', '0001055178', '0.5', '0.2596393909493942', '0.17837421036491835', '0.25450734021697347', '0.0816767029552047', '0.4163100006029723', '0.6862006368173601', '0.08002756848170138', '0.42277087816745107']\n"
     ]
    }
   ],
   "source": [
    "datafile = files['train']\n",
    "\n",
    "with open(datafile, 'r') as fr:\n",
    "    data={}\n",
    "    ws = next(fr).rstrip('\\n').split(',')\n",
    "    print(ws)\n",
    "    ws = next(fr).rstrip('\\n').split(',')\n",
    "    print(ws)"
   ]
  },
  {
   "cell_type": "markdown",
   "id": "aadfd532",
   "metadata": {},
   "source": [
    "### Load data\n",
    "Here, we load all scores and embeddings and group them in each user"
   ]
  },
  {
   "cell_type": "code",
   "execution_count": 68,
   "id": "03630cc9",
   "metadata": {},
   "outputs": [],
   "source": [
    "# load data and group by products\n",
    "def load_data(datafile):\n",
    "    with open(datafile, 'r') as fr:\n",
    "        data = {}\n",
    "        fr.readline()\n",
    "        for l in fr:\n",
    "            ws = l.rstrip('\\n').split(',')\n",
    "            emb_dim = len(ws) - 2\n",
    "            if ws[1] not in data:\n",
    "                data[ws[1]] = []\n",
    "            data[ws[1]].append([ws[0], ws[1], torch.tensor([float(x) for x in ws[2:]])])\n",
    "    return data, emb_dim\n",
    "\n",
    "# load labels and sort in users order\n",
    "def load_labels(labelfile, device):\n",
    "    with open(labelfile, 'r') as fr:\n",
    "        fr.readline()\n",
    "        user_labels = []\n",
    "        for l in fr:\n",
    "            ws = l.rstrip('\\n').split(',')\n",
    "            user_labels.append((ws[0], float(ws[1]))) \n",
    "        user_labels.sort()\n",
    "        user_labels = torch.tensor([float((x[1] > 0.5)) for x in user_labels]).to(device) # label 1 if helffulness > 0.5, label 0 if helpfulness < 0.5\n",
    "        # user_labels = torch.tensor([(x[1]) for x in user_labels]).to(device)\n",
    "    return user_labels"
   ]
  },
  {
   "cell_type": "code",
   "execution_count": 69,
   "id": "8e2a9b5b",
   "metadata": {},
   "outputs": [
    {
     "name": "stdout",
     "output_type": "stream",
     "text": [
      "Statistics for train dataset:\n",
      "Total users: 12734\n",
      "Total products: 18525\n",
      "Statistics for val dataset:\n",
      "Total users: 13571\n",
      "Total products: 20823\n",
      "Statistics for test dataset:\n",
      "Total users: 12770\n",
      "Total products: 18426\n"
     ]
    }
   ],
   "source": [
    "# load all, train, val, and test files\n",
    "data = {}\n",
    "labels = {}\n",
    "for t in ['train', 'val', 'test', 'all']:\n",
    "    if t in files and t in label_files:\n",
    "        data[t], emb_dim = load_data(files[t])\n",
    "        labels[t] = load_labels(label_files[t], device)\n",
    "        print(f'Statistics for {t} dataset:')\n",
    "        print(f'Total users: {len(labels[t])}')\n",
    "        print(f'Total products: {len(data[t])}')"
   ]
  },
  {
   "cell_type": "code",
   "execution_count": 70,
   "id": "18224d81",
   "metadata": {},
   "outputs": [
    {
     "data": {
      "text/plain": [
       "tensor([1., 0., 1.,  ..., 0., 0., 0.], device='cuda:0')"
      ]
     },
     "execution_count": 70,
     "metadata": {},
     "output_type": "execute_result"
    }
   ],
   "source": [
    "labels['train'] "
   ]
  },
  {
   "cell_type": "markdown",
   "id": "6872fb17",
   "metadata": {},
   "source": [
    "### Build model\n",
    "This model takes the text embeddings and scores to predict the user helpfulness and detect fraudulent users using the following formula:\n",
    "\n",
    "$$\n",
    "\\overrightarrow{G(p)} = AGG(RNN(\\overrightarrow{S(u, p)}, \\forall u \\in U),  \\Pi_p)\n",
    "$$\n",
    "$$\n",
    "\\overrightarrow{R(u, p)} = NN(\\overrightarrow{S(u, p)}, \\overrightarrow{G(p)})\n",
    "$$\n",
    "$$\n",
    "F(u) = AGG(\\overrightarrow{R(u, p)}, \\forall p \\in P, \\overrightarrow{\\Pi_u}) \n",
    "$$\n",
    "\n",
    "In this very first model, the product and user embeddings are removed. We used the following formula:\n",
    "$$\n",
    "\\overrightarrow{G(p)} = GRU(\\overrightarrow{S(u, p)}, \\forall u \\in U)\n",
    "$$\n",
    "$$\n",
    "\\overrightarrow{R(u, p)} = NN(\\overrightarrow{S(u, p)}, \\overrightarrow{G(p)})\n",
    "$$\n",
    "$$\n",
    "F(u) = GRU(\\overrightarrow{R(u, p)}, \\forall p \\in P) \n",
    "$$"
   ]
  },
  {
   "cell_type": "code",
   "execution_count": 71,
   "id": "b3106918",
   "metadata": {},
   "outputs": [
    {
     "data": {
      "text/plain": [
       "(tensor([[[0.5000, 0.2596, 0.1784, 0.2545, 0.0817, 0.4163, 0.6862, 0.0800,\n",
       "           0.4228]],\n",
       " \n",
       "         [[1.0000, 0.6770, 0.4070, 0.0000, 0.0000, 0.3799, 0.3296, 0.0000,\n",
       "           0.3508]],\n",
       " \n",
       "         [[0.5000, 0.3462, 0.1784, 0.2545, 0.0544, 0.4996, 0.6982, 0.1067,\n",
       "           0.1794]]]),\n",
       " '0001055178')"
      ]
     },
     "execution_count": 71,
     "metadata": {},
     "output_type": "execute_result"
    }
   ],
   "source": [
    "# helper function to convert text embeddings of a product\n",
    "def emb2tensor(data, dim):\n",
    "    \"\"\"\n",
    "    input: \n",
    "        data: list, review information list. data[i][0]-reviewerID, data[i][1]-asin, data[i][2]-rating&text-embedding\n",
    "\n",
    "    \"\"\"\n",
    "    product = data[0][1]\n",
    "    tensor = torch.zeros((len(data), 1, dim))\n",
    "    for i, d in enumerate(data):\n",
    "        tensor[i,:,:] = d[-1]\n",
    "    return tensor, product\n",
    "emb2tensor(data['train'][list(data['train'].keys())[0]], emb_dim)"
   ]
  },
  {
   "cell_type": "code",
   "execution_count": 72,
   "id": "55cd6747",
   "metadata": {},
   "outputs": [],
   "source": [
    "class FUD_FC(nn.Module):\n",
    "    def __init__(self, emb_dim, device):\n",
    "        super().__init__()\n",
    "        # get parameters\n",
    "        self.dim = emb_dim\n",
    "        # set layers\n",
    "        self.fc = nn.Linear(emb_dim, 32)\n",
    "        self.fc1 = nn.Linear(emb_dim + 32, 16)\n",
    "        self.fc2 = nn.Linear(16, 16)\n",
    "        self.fc3 = nn.Linear(16, 1)\n",
    "        self.device = device\n",
    "    \n",
    "    def forward(self, x):\n",
    "        # calculate gp\n",
    "        gp = {}\n",
    "        for su in x.values(): # iterate over products' reviews, su for all reviews received by a certain product\n",
    "            tensor, p = emb2tensor(su, self.dim) # tensor'dim = (reviews_num, 1, emb_dim)\n",
    "            gp[p] = F.relu(self.fc(tensor.to(self.device).mean(dim=0))).view(-1)\n",
    "        # calculate rup\n",
    "        rup = {}\n",
    "        for su in x.values(): # iterate over products' reviews, su for all reviews received by a certain product\n",
    "            for r in su:\n",
    "                u, p, s = r # ReviewerID, Product, Feature Tensor\n",
    "                s = torch.cat((s.to(device), gp[p]))\n",
    "                if u not in rup:\n",
    "                    rup[u] = [] # store all reviews given by \"u\"\n",
    "                rup[u].append(F.relu(self.fc2(F.relu(self.fc1(s)))))\n",
    "        # fairness for users\n",
    "        fu = []\n",
    "        for u in sorted(rup.keys()):\n",
    "            v = torch.stack(rup[u], dim=1).view(len(rup[u]), 1, 16)\n",
    "            fu.append(F.sigmoid(self.fc3(v.mean(dim=0))))\n",
    "        return torch.cat(fu)"
   ]
  },
  {
   "cell_type": "code",
   "execution_count": 73,
   "id": "f66d1d96",
   "metadata": {},
   "outputs": [],
   "source": [
    "class FUD_GRU(nn.Module):\n",
    "    def __init__(self, emb_dim, device):\n",
    "        super().__init__()\n",
    "        # get parameters\n",
    "        self.dim = emb_dim\n",
    "        # set layers\n",
    "        self.GRU = nn.GRU(emb_dim, 32)\n",
    "        self.fc1 = nn.Linear(emb_dim + 32, 16)\n",
    "        self.fc2 = nn.Linear(16, 16)\n",
    "        self.GRU2 = nn.GRU(16, 1)\n",
    "        self.sigmoid = nn.Sigmoid()\n",
    "        self.device = device\n",
    "    \n",
    "    def forward(self, x):\n",
    "        # calculate gp\n",
    "        gp = {}\n",
    "        for su in x.values():\n",
    "            tensor, p = emb2tensor(su, self.dim)\n",
    "            gp[p] = self.GRU(tensor.to(self.device))[-1].view(-1)\n",
    "        # calculate rup\n",
    "        rup = {}\n",
    "        for su in x.values():\n",
    "            for r in su:\n",
    "                u, p, s = r\n",
    "                s = torch.cat((s.to(device), gp[p]))\n",
    "                if u not in rup:\n",
    "                    rup[u] = []\n",
    "                rup[u].append(self.fc2(F.relu(self.fc1(s))))\n",
    "        # fairness for users\n",
    "        fu = []\n",
    "        for u in sorted(rup.keys()):\n",
    "            v = torch.stack(rup[u], dim=1).view(len(rup[u]), 1, 16)\n",
    "            fu.append(self.sigmoid(self.GRU2(v)[-1]))\n",
    "        return torch.cat(fu)"
   ]
  },
  {
   "cell_type": "markdown",
   "id": "1932eac6",
   "metadata": {},
   "source": [
    "### Train model"
   ]
  },
  {
   "cell_type": "code",
   "execution_count": 74,
   "id": "4db3a62b",
   "metadata": {},
   "outputs": [
    {
     "data": {
      "text/plain": [
       "FUD_GRU(\n",
       "  (GRU): GRU(9, 32)\n",
       "  (fc1): Linear(in_features=41, out_features=16, bias=True)\n",
       "  (fc2): Linear(in_features=16, out_features=16, bias=True)\n",
       "  (GRU2): GRU(16, 1)\n",
       "  (sigmoid): Sigmoid()\n",
       ")"
      ]
     },
     "execution_count": 74,
     "metadata": {},
     "output_type": "execute_result"
    }
   ],
   "source": [
    "model = FUD_GRU(emb_dim, device).to(device)\n",
    "model"
   ]
  },
  {
   "cell_type": "code",
   "execution_count": 109,
   "id": "fecb047e",
   "metadata": {},
   "outputs": [],
   "source": [
    "# Set up loss function\n",
    "criterion = nn.BCELoss()\n",
    "train_losses = []\n",
    "val_losses = []"
   ]
  },
  {
   "cell_type": "code",
   "execution_count": 110,
   "id": "3d2ed7db",
   "metadata": {},
   "outputs": [
    {
     "name": "stdout",
     "output_type": "stream",
     "text": [
      "loss calculated\n",
      "Epoch 0, Train Loss: 0.378443, Val. Loss: 0.379612, cost 111.99711537361145s\n",
      "loss calculated\n",
      "loss calculated\n",
      "Epoch 2, Train Loss: 0.378343, Val. Loss: 0.379531, cost 109.10060739517212s\n",
      "loss calculated\n",
      "loss calculated\n",
      "Epoch 4, Train Loss: 0.378275, Val. Loss: 0.379477, cost 112.98034238815308s\n",
      "loss calculated\n",
      "loss calculated\n",
      "Epoch 6, Train Loss: 0.378229, Val. Loss: 0.379441, cost 111.92943358421326s\n",
      "loss calculated\n",
      "loss calculated\n",
      "Epoch 8, Train Loss: 0.378199, Val. Loss: 0.379416, cost 110.9409282207489s\n",
      "loss calculated\n"
     ]
    }
   ],
   "source": [
    "optimizer = torch.optim.Adam(model.parameters(), lr=1e-3, weight_decay=1e-7)\n",
    "epochs = 10\n",
    "report_epoch = 2\n",
    "\n",
    "for i in range(epochs):\n",
    "    start_time = time.time()\n",
    "    model.train()\n",
    "    y_pred = model(data['train'])\n",
    "    loss = criterion(y_pred.view(-1), labels['train'])\n",
    "    print('loss calculated')\n",
    "    optimizer.zero_grad()\n",
    "    loss.backward()\n",
    "    optimizer.step()\n",
    "    train_losses.append(loss.view(-1).cpu().detach().numpy()[0])\n",
    "    if not i % report_epoch:\n",
    "        model.eval()\n",
    "        pred = model(data['val'])\n",
    "        val_loss = criterion(pred.view(-1), labels['val'])\n",
    "        val_losses.append(val_loss.view(-1).cpu().detach().numpy()[0])\n",
    "        print(f'Epoch {i}, Train Loss: {train_losses[-1]:.6f}, Val. Loss: {val_losses[-1]:.6f}, cost {time.time() - start_time}s')"
   ]
  },
  {
   "cell_type": "markdown",
   "id": "603b5211",
   "metadata": {},
   "source": [
    "Save model weights if needed"
   ]
  },
  {
   "cell_type": "code",
   "execution_count": 36,
   "id": "22806cde",
   "metadata": {},
   "outputs": [],
   "source": [
    "\n",
    "torch.save(model.state_dict(), 'Model_weights_gru.tar')"
   ]
  },
  {
   "cell_type": "markdown",
   "id": "82adaf7e",
   "metadata": {},
   "source": [
    "Visualize training process"
   ]
  },
  {
   "cell_type": "code",
   "execution_count": 111,
   "id": "c967045c",
   "metadata": {},
   "outputs": [
    {
     "data": {
      "image/png": "[encoded data removed]",
      "text/plain": [
       "<Figure size 432x432 with 1 Axes>"
      ]
     },
     "metadata": {},
     "output_type": "display_data"
    }
   ],
   "source": [
    "fig, ax = plt.subplots(figsize=(6,6))\n",
    "sns.set(style='ticks', font_scale=1.5)\n",
    "plt.plot(list(range(epochs)), train_losses, color='b', label='Train loss')\n",
    "plt.plot(list(range(0, epochs, report_epoch)), val_losses, color='r', label='Val. loss')\n",
    "plt.ylabel('MSE Loss')\n",
    "plt.xlabel('Epochs')\n",
    "plt.title('Training process')\n",
    "plt.legend()\n",
    "sns.despine()"
   ]
  },
  {
   "cell_type": "markdown",
   "id": "bae2aa67",
   "metadata": {},
   "source": [
    "### Evaluate model\n",
    "Evaluate model on train, val, test, and all dataset"
   ]
  },
  {
   "cell_type": "code",
   "execution_count": 78,
   "id": "5cb442e7",
   "metadata": {},
   "outputs": [
    {
     "ename": "KeyboardInterrupt",
     "evalue": "",
     "output_type": "error",
     "traceback": [
      "\u001b[1;31m---------------------------------------------------------------------------\u001b[0m",
      "\u001b[1;31mKeyboardInterrupt\u001b[0m                         Traceback (most recent call last)",
      "\u001b[1;32m~\\AppData\\Local\\Temp/ipykernel_17796/1022219824.py\u001b[0m in \u001b[0;36m<module>\u001b[1;34m\u001b[0m\n\u001b[0;32m      3\u001b[0m \u001b[0mpreds\u001b[0m \u001b[1;33m=\u001b[0m \u001b[1;33m{\u001b[0m\u001b[1;33m}\u001b[0m\u001b[1;33m\u001b[0m\u001b[1;33m\u001b[0m\u001b[0m\n\u001b[0;32m      4\u001b[0m \u001b[1;32mfor\u001b[0m \u001b[0mk\u001b[0m\u001b[1;33m,\u001b[0m \u001b[0mv\u001b[0m \u001b[1;32min\u001b[0m \u001b[0my_true\u001b[0m\u001b[1;33m.\u001b[0m\u001b[0mitems\u001b[0m\u001b[1;33m(\u001b[0m\u001b[1;33m)\u001b[0m\u001b[1;33m:\u001b[0m\u001b[1;33m\u001b[0m\u001b[1;33m\u001b[0m\u001b[0m\n\u001b[1;32m----> 5\u001b[1;33m     \u001b[0mpreds\u001b[0m\u001b[1;33m[\u001b[0m\u001b[0mk\u001b[0m\u001b[1;33m]\u001b[0m \u001b[1;33m=\u001b[0m \u001b[0mmodel\u001b[0m\u001b[1;33m(\u001b[0m\u001b[0mdata\u001b[0m\u001b[1;33m[\u001b[0m\u001b[0mk\u001b[0m\u001b[1;33m]\u001b[0m\u001b[1;33m)\u001b[0m\u001b[1;33m.\u001b[0m\u001b[0mview\u001b[0m\u001b[1;33m(\u001b[0m\u001b[1;33m-\u001b[0m\u001b[1;36m1\u001b[0m\u001b[1;33m)\u001b[0m\u001b[1;33m.\u001b[0m\u001b[0mcpu\u001b[0m\u001b[1;33m(\u001b[0m\u001b[1;33m)\u001b[0m\u001b[1;33m.\u001b[0m\u001b[0mdetach\u001b[0m\u001b[1;33m(\u001b[0m\u001b[1;33m)\u001b[0m\u001b[1;33m.\u001b[0m\u001b[0mnumpy\u001b[0m\u001b[1;33m(\u001b[0m\u001b[1;33m)\u001b[0m\u001b[1;33m\u001b[0m\u001b[1;33m\u001b[0m\u001b[0m\n\u001b[0m\u001b[0;32m      6\u001b[0m     \u001b[0mpreds\u001b[0m\u001b[1;33m[\u001b[0m\u001b[0mk\u001b[0m\u001b[1;33m]\u001b[0m\u001b[1;33m[\u001b[0m\u001b[0mpreds\u001b[0m\u001b[1;33m[\u001b[0m\u001b[0mk\u001b[0m\u001b[1;33m]\u001b[0m \u001b[1;33m>\u001b[0m \u001b[0mthreshold\u001b[0m\u001b[1;33m]\u001b[0m \u001b[1;33m=\u001b[0m \u001b[1;36m1\u001b[0m\u001b[1;33m\u001b[0m\u001b[1;33m\u001b[0m\u001b[0m\n\u001b[0;32m      7\u001b[0m     \u001b[0mpreds\u001b[0m\u001b[1;33m[\u001b[0m\u001b[0mk\u001b[0m\u001b[1;33m]\u001b[0m\u001b[1;33m[\u001b[0m\u001b[0mpreds\u001b[0m\u001b[1;33m[\u001b[0m\u001b[0mk\u001b[0m\u001b[1;33m]\u001b[0m \u001b[1;33m<\u001b[0m \u001b[0mthreshold\u001b[0m\u001b[1;33m]\u001b[0m \u001b[1;33m=\u001b[0m \u001b[1;36m0\u001b[0m\u001b[1;33m\u001b[0m\u001b[1;33m\u001b[0m\u001b[0m\n",
      "\u001b[1;32m~\\anaconda3\\lib\\site-packages\\torch\\nn\\modules\\module.py\u001b[0m in \u001b[0;36m_call_impl\u001b[1;34m(self, *input, **kwargs)\u001b[0m\n\u001b[0;32m   1108\u001b[0m         if not (self._backward_hooks or self._forward_hooks or self._forward_pre_hooks or _global_backward_hooks\n\u001b[0;32m   1109\u001b[0m                 or _global_forward_hooks or _global_forward_pre_hooks):\n\u001b[1;32m-> 1110\u001b[1;33m             \u001b[1;32mreturn\u001b[0m \u001b[0mforward_call\u001b[0m\u001b[1;33m(\u001b[0m\u001b[1;33m*\u001b[0m\u001b[0minput\u001b[0m\u001b[1;33m,\u001b[0m \u001b[1;33m**\u001b[0m\u001b[0mkwargs\u001b[0m\u001b[1;33m)\u001b[0m\u001b[1;33m\u001b[0m\u001b[1;33m\u001b[0m\u001b[0m\n\u001b[0m\u001b[0;32m   1111\u001b[0m         \u001b[1;31m# Do not call functions when jit is used\u001b[0m\u001b[1;33m\u001b[0m\u001b[1;33m\u001b[0m\u001b[0m\n\u001b[0;32m   1112\u001b[0m         \u001b[0mfull_backward_hooks\u001b[0m\u001b[1;33m,\u001b[0m \u001b[0mnon_full_backward_hooks\u001b[0m \u001b[1;33m=\u001b[0m \u001b[1;33m[\u001b[0m\u001b[1;33m]\u001b[0m\u001b[1;33m,\u001b[0m \u001b[1;33m[\u001b[0m\u001b[1;33m]\u001b[0m\u001b[1;33m\u001b[0m\u001b[1;33m\u001b[0m\u001b[0m\n",
      "\u001b[1;32m~\\AppData\\Local\\Temp/ipykernel_17796/1877476101.py\u001b[0m in \u001b[0;36mforward\u001b[1;34m(self, x)\u001b[0m\n\u001b[0;32m     23\u001b[0m             \u001b[1;32mfor\u001b[0m \u001b[0mr\u001b[0m \u001b[1;32min\u001b[0m \u001b[0msu\u001b[0m\u001b[1;33m:\u001b[0m\u001b[1;33m\u001b[0m\u001b[1;33m\u001b[0m\u001b[0m\n\u001b[0;32m     24\u001b[0m                 \u001b[0mu\u001b[0m\u001b[1;33m,\u001b[0m \u001b[0mp\u001b[0m\u001b[1;33m,\u001b[0m \u001b[0ms\u001b[0m \u001b[1;33m=\u001b[0m \u001b[0mr\u001b[0m\u001b[1;33m\u001b[0m\u001b[1;33m\u001b[0m\u001b[0m\n\u001b[1;32m---> 25\u001b[1;33m                 \u001b[0ms\u001b[0m \u001b[1;33m=\u001b[0m \u001b[0mtorch\u001b[0m\u001b[1;33m.\u001b[0m\u001b[0mcat\u001b[0m\u001b[1;33m(\u001b[0m\u001b[1;33m(\u001b[0m\u001b[0ms\u001b[0m\u001b[1;33m.\u001b[0m\u001b[0mto\u001b[0m\u001b[1;33m(\u001b[0m\u001b[0mdevice\u001b[0m\u001b[1;33m)\u001b[0m\u001b[1;33m,\u001b[0m \u001b[0mgp\u001b[0m\u001b[1;33m[\u001b[0m\u001b[0mp\u001b[0m\u001b[1;33m]\u001b[0m\u001b[1;33m)\u001b[0m\u001b[1;33m)\u001b[0m\u001b[1;33m\u001b[0m\u001b[1;33m\u001b[0m\u001b[0m\n\u001b[0m\u001b[0;32m     26\u001b[0m                 \u001b[1;32mif\u001b[0m \u001b[0mu\u001b[0m \u001b[1;32mnot\u001b[0m \u001b[1;32min\u001b[0m \u001b[0mrup\u001b[0m\u001b[1;33m:\u001b[0m\u001b[1;33m\u001b[0m\u001b[1;33m\u001b[0m\u001b[0m\n\u001b[0;32m     27\u001b[0m                     \u001b[0mrup\u001b[0m\u001b[1;33m[\u001b[0m\u001b[0mu\u001b[0m\u001b[1;33m]\u001b[0m \u001b[1;33m=\u001b[0m \u001b[1;33m[\u001b[0m\u001b[1;33m]\u001b[0m\u001b[1;33m\u001b[0m\u001b[1;33m\u001b[0m\u001b[0m\n",
      "\u001b[1;31mKeyboardInterrupt\u001b[0m: "
     ]
    }
   ],
   "source": [
    "threshold = 0.5\n",
    "model.eval()\n",
    "preds = {}\n",
    "for k, v in y_true.items():\n",
    "    preds[k] = model(data[k]).view(-1).cpu().detach().numpy()\n",
    "    preds[k][preds[k] > threshold] = 1\n",
    "    preds[k][preds[k] < threshold] = 0\n",
    "    acc = np.sum(preds[k] == v)/len(preds[k])\n",
    "    print(f'Accuracy for {k} dataset: {acc:.4f}')"
   ]
  },
  {
   "cell_type": "code",
   "execution_count": 112,
   "id": "865eecfb",
   "metadata": {},
   "outputs": [],
   "source": [
    "# Making Prediction\n",
    "preds = {}\n",
    "preds['val'] = model(data['val']).view(-1).cpu().detach().numpy()\n",
    "preds['test'] = model(data['test']).view(-1).cpu().detach().numpy()\n",
    "preds_prob = preds.copy()\n",
    "\n",
    "th = 0.5\n",
    "preds['val'] = preds['val'] >= th\n",
    "preds['test'] = preds['test'] >= th"
   ]
  },
  {
   "cell_type": "code",
   "execution_count": 113,
   "id": "aca0797a",
   "metadata": {},
   "outputs": [],
   "source": [
    "th = 0.5\n",
    "preds['val'] = preds['val'] >= th\n",
    "preds['test'] = preds['test'] >= th"
   ]
  },
  {
   "cell_type": "code",
   "execution_count": 114,
   "id": "aaa5f8ff",
   "metadata": {},
   "outputs": [
    {
     "data": {
      "text/plain": [
       "{'val': {'accuracy_score': 0.9339031758897649,\n",
       "  'f1_score': 0.965822061345018,\n",
       "  'precision': 0.9339031758897649,\n",
       "  'recall': 1.0,\n",
       "  'roc_auc_score': 0.5793133494795919},\n",
       " 'test': {'accuracy_score': 0.9347689898198903,\n",
       "  'f1_score': 0.9662848585421135,\n",
       "  'precision': 0.9347689898198903,\n",
       "  'recall': 1.0,\n",
       "  'roc_auc_score': 0.5736402125564979}}"
      ]
     },
     "execution_count": 114,
     "metadata": {},
     "output_type": "execute_result"
    }
   ],
   "source": [
    "# Evaluate\n",
    "from sklearn.metrics import f1_score\n",
    "from sklearn.metrics import accuracy_score\n",
    "from sklearn.metrics import precision_score\n",
    "from sklearn.metrics import roc_auc_score\n",
    "from sklearn.metrics import recall_score\n",
    "\n",
    "y_true = {}\n",
    "\n",
    "labels['val'].to\n",
    "\n",
    "metrics = {}\n",
    "for k in ['val', 'test']:\n",
    "    metrics[k] = {}\n",
    "    y_true[k] = labels[k].clone().view(-1).cpu().detach().numpy()\n",
    "    metrics[k]['accuracy_score'] = accuracy_score(y_pred=preds[k], y_true=y_true[k])\n",
    "    metrics[k]['f1_score'] = f1_score(y_pred=preds[k], y_true=y_true[k])\n",
    "    metrics[k]['precision'] = precision_score(y_pred=preds[k], y_true=y_true[k])\n",
    "    metrics[k]['recall'] = recall_score(y_pred=preds[k], y_true=y_true[k])\n",
    "    metrics[k]['roc_auc_score'] = roc_auc_score(y_score=preds_prob[k], y_true=y_true[k])\n",
    "metrics\n"
   ]
  },
  {
   "cell_type": "code",
   "execution_count": 115,
   "id": "b69e6a72",
   "metadata": {},
   "outputs": [
    {
     "data": {
      "text/plain": [
       "(array([   1,    2,    3,   16,   27,   79,  301, 1025, 1456, 9860],\n",
       "       dtype=int64),\n",
       " array([0.7303658 , 0.7304351 , 0.73050433, 0.73057365, 0.7306429 ,\n",
       "        0.7307122 , 0.73078144, 0.7308507 , 0.73092   , 0.7309893 ,\n",
       "        0.73105854], dtype=float32))"
      ]
     },
     "execution_count": 115,
     "metadata": {},
     "output_type": "execute_result"
    }
   ],
   "source": [
    "np.histogram(preds_prob['test'])"
   ]
  },
  {
   "cell_type": "markdown",
   "id": "593e57dd",
   "metadata": {},
   "source": [
    "ROC curve and AUC"
   ]
  },
  {
   "cell_type": "code",
   "execution_count": 124,
   "id": "6d7e4932",
   "metadata": {
    "scrolled": false
   },
   "outputs": [
    {
     "data": {
      "text/plain": [
       "Text(0.5, 1.0, 'ROC curve for test dataset')"
      ]
     },
     "execution_count": 124,
     "metadata": {},
     "output_type": "execute_result"
    },
    {
     "data": {
      "image/png": "[encoded data removed]",
      "text/plain": [
       "<Figure size 432x288 with 1 Axes>"
      ]
     },
     "metadata": {},
     "output_type": "display_data"
    }
   ],
   "source": [
    "from sklearn.metrics import roc_curve\n",
    "import matplotlib.pyplot as plt\n",
    "fpr, tpr, th = roc_curve(y_true=y_true['test'], y_score=preds_prob['test'])\n",
    "plt.plot(fpr, tpr)\n",
    "plt.ylabel('TPR')\n",
    "plt.xlabel('FPR')\n",
    "plt.title(f'ROC curve for test dataset')"
   ]
  },
  {
   "cell_type": "code",
   "execution_count": null,
   "id": "5dc94e42",
   "metadata": {},
   "outputs": [],
   "source": [
    "for k, v in y_true.items():\n",
    "    fpr, tpr, _ = roc_curve(v, preds[k])\n",
    "    roc_auc = auc(fpr, tpr)\n",
    "    fig, ax = plt.subplots(figsize=(6,6))\n",
    "    plt.plot(fpr, tpr)\n",
    "    plt.ylabel('TPR')\n",
    "    plt.xlabel('FPR')\n",
    "    plt.title(f'ROC curve in {k} dataset \\n AUC:{roc_auc:.4f}')"
   ]
  },
  {
   "cell_type": "code",
   "execution_count": null,
   "id": "66f58f01",
   "metadata": {},
   "outputs": [],
   "source": []
  }
 ],
 "metadata": {
  "kernelspec": {
   "display_name": "Python 3 (ipykernel)",
   "language": "python",
   "name": "python3"
  },
  "language_info": {
   "codemirror_mode": {
    "name": "ipython",
    "version": 3
   },
   "file_extension": ".py",
   "mimetype": "text/x-python",
   "name": "python",
   "nbconvert_exporter": "python",
   "pygments_lexer": "ipython3",
   "version": "3.9.7"
  }
 },
 "nbformat": 4,
 "nbformat_minor": 5
}
